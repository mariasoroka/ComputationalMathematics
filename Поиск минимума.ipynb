{
 "cells": [
  {
   "cell_type": "code",
   "execution_count": 11,
   "metadata": {},
   "outputs": [],
   "source": [
    "import numpy as np\n",
    "import matplotlib as plt\n",
    "import math\n",
    "import matplotlib.pyplot"
   ]
  },
  {
   "cell_type": "code",
   "execution_count": 12,
   "metadata": {},
   "outputs": [],
   "source": [
    "def function(x, y):\n",
    "    f = 100.0 * (y - x * x) * (y - x * x) + (1.0 - x) * (1.0 - x)\n",
    "    return f"
   ]
  },
  {
   "cell_type": "code",
   "execution_count": 13,
   "metadata": {},
   "outputs": [],
   "source": [
    "def gradient(x, y):\n",
    "    grad = np.zeros((2))\n",
    "    grad[0] = -400.0 * x * (y - x * x) - 2.0 * (1.0 - x)\n",
    "    grad[1] = 200.0 * (y - x * x)\n",
    "    return grad"
   ]
  },
  {
   "cell_type": "code",
   "execution_count": 14,
   "metadata": {},
   "outputs": [
    {
     "data": {
      "image/png": "[encoded data removed]",
      "text/plain": [
       "<Figure size 432x288 with 1 Axes>"
      ]
     },
     "metadata": {
      "needs_background": "light"
     },
     "output_type": "display_data"
    }
   ],
   "source": [
    "#1 способ\n",
    "X = []\n",
    "Y = []\n",
    "for t in range(19, 0, -1):\n",
    "    x = 0\n",
    "    y = 3\n",
    "    numb = 0\n",
    "    while(np.linalg.norm(gradient(x, y)) > 0.00000001):\n",
    "        grad = gradient(x, y)\n",
    "        x = x - (t * grad[0] / 10000.0)\n",
    "        y = y -  (t * grad[1] / 10000.0)\n",
    "        numb += 1\n",
    "    X.append(t)\n",
    "    Y.append(numb)\n",
    "plot = plt.pyplot.scatter(X, Y, s = 3, c = 'm')\n",
    "plt.pyplot.show()"
   ]
  },
  {
   "cell_type": "code",
   "execution_count": 15,
   "metadata": {},
   "outputs": [],
   "source": [
    "#t_opt из графика берем равное 19"
   ]
  },
  {
   "cell_type": "code",
   "execution_count": 16,
   "metadata": {},
   "outputs": [
    {
     "data": {
      "image/png": "[encoded data removed]",
      "text/plain": [
       "<Figure size 432x288 with 1 Axes>"
      ]
     },
     "metadata": {
      "needs_background": "light"
     },
     "output_type": "display_data"
    },
    {
     "name": "stdout",
     "output_type": "stream",
     "text": [
      "Число итераций: \n",
      "22513\n",
      "Норма невязки: \n",
      "9.995760711986306e-09\n",
      "Норма ошибки: \n",
      "2.5029400473995886e-08\n",
      "Решение: \n",
      "(0.9999999888244034, 0.9999999776040868)\n"
     ]
    }
   ],
   "source": [
    "X_1 = []\n",
    "Y_1 = []\n",
    "t_opt = 19\n",
    "x = 0\n",
    "y = 3\n",
    "numb = 0\n",
    "while(np.linalg.norm(gradient(x, y)) > 0.00000001):\n",
    "    grad = gradient(x, y)\n",
    "    x = x - (t_opt * grad[0] / 10000.0)\n",
    "    y = y -  (t_opt * grad[1] / 10000.0)\n",
    "    X_1.append(numb)\n",
    "    Y_1.append(math.log(np.linalg.norm(gradient(x, y))))\n",
    "    numb += 1\n",
    "plot = plt.pyplot.scatter(X_1, Y_1, s = 0.01, c = 'm')\n",
    "plt.pyplot.show()\n",
    "print(\"Число итераций: \")\n",
    "print(numb)\n",
    "print(\"Норма невязки: \")\n",
    "print(np.linalg.norm(gradient(x, y)))\n",
    "print(\"Норма ошибки: \")\n",
    "error = [x - 1, y - 1]\n",
    "print(np.linalg.norm(error)) \n",
    "print(\"Решение: \")\n",
    "print(x, y)"
   ]
  },
  {
   "cell_type": "code",
   "execution_count": 17,
   "metadata": {},
   "outputs": [],
   "source": [
    "def find_t_for_quickest_discent(x, y):\n",
    "    a = 0.00000001\n",
    "    b = 1.0\n",
    "    grad = gradient(x, y)\n",
    "    while(b - a > 0.00000001):\n",
    "        t_1 = b - (b - a) / 1.6180339887\n",
    "        t_2 = a + (b - a) / 1.6180339887\n",
    "        if(function(x - t_1 * grad[0], y - t_1 * grad[1]) >= function(x - t_2 * grad[0], y - t_2 * grad[1])):\n",
    "            a = t_1\n",
    "        else:\n",
    "            b = t_2\n",
    "    return float((b + a) / 2)"
   ]
  },
  {
   "cell_type": "code",
   "execution_count": 18,
   "metadata": {},
   "outputs": [
    {
     "data": {
      "image/png": "[encoded data removed]",
      "text/plain": [
       "<Figure size 432x288 with 1 Axes>"
      ]
     },
     "metadata": {
      "needs_background": "light"
     },
     "output_type": "display_data"
    },
    {
     "name": "stdout",
     "output_type": "stream",
     "text": [
      "Число итераций: \n",
      "13708\n",
      "Норма невязки: \n",
      "9.998091243884923e-09\n",
      "Норма ошибки: \n",
      "2.240108961939946e-08\n",
      "Решение: \n",
      "(0.9999999900019293, 0.9999999799538682)\n"
     ]
    }
   ],
   "source": [
    "#2 способ\n",
    "X_2 = []\n",
    "Y_2 = []\n",
    "x = 0\n",
    "y = 3\n",
    "numb = 0\n",
    "while(np.linalg.norm(gradient(x, y)) > 0.00000001):\n",
    "    grad = gradient(x, y)\n",
    "    t = find_t_for_quickest_discent(x, y)\n",
    "    x = x - t * grad[0]\n",
    "    y = y -  t * grad[1]\n",
    "    X_2.append(numb)\n",
    "    Y_2.append(math.log(np.linalg.norm(gradient(x, y))))\n",
    "    numb += 1\n",
    "plot = plt.pyplot.scatter(X_2, Y_2, s = 0.001, c = 'r')\n",
    "plt.pyplot.show()\n",
    "print(\"Число итераций: \")\n",
    "print(numb)\n",
    "print(\"Норма невязки: \")\n",
    "print(np.linalg.norm(gradient(x, y)))\n",
    "print(\"Норма ошибки: \")\n",
    "error = [x - 1, y - 1]\n",
    "print(np.linalg.norm(error)) \n",
    "print(\"Решение: \")\n",
    "print(x, y)"
   ]
  },
  {
   "cell_type": "code",
   "execution_count": 19,
   "metadata": {},
   "outputs": [],
   "source": [
    "def find_t_for_min_residual(x, y):\n",
    "    a = 0.00000001\n",
    "    b = 1.0\n",
    "    grad = gradient(x, y)\n",
    "    while(b - a > 0.00000001):\n",
    "        t_1 = b - (b - a) / 1.6180339887\n",
    "        t_2 = a + (b - a) / 1.6180339887\n",
    "        if(np.linalg.norm(gradient(x - t_1 * grad[0], y - t_1 * grad[1])) >= np.linalg.norm(gradient(x - t_2 * grad[0], y - t_2 * grad[1]))):\n",
    "            a = t_1\n",
    "        else:\n",
    "            b = t_2\n",
    "    return float((b + a) / 2)"
   ]
  },
  {
   "cell_type": "code",
   "execution_count": 20,
   "metadata": {},
   "outputs": [
    {
     "data": {
      "image/png": "[encoded data removed]",
      "text/plain": [
       "<Figure size 432x288 with 1 Axes>"
      ]
     },
     "metadata": {
      "needs_background": "light"
     },
     "output_type": "display_data"
    },
    {
     "name": "stdout",
     "output_type": "stream",
     "text": [
      "Число итераций: \n",
      "16496\n",
      "Норма невязки: \n",
      "9.992464018842715e-09\n",
      "Норма ошибки: \n",
      "2.5015356305358723e-08\n",
      "Решение: \n",
      "(0.9999999888304821, 0.9999999776167491)\n"
     ]
    }
   ],
   "source": [
    "#3 способ\n",
    "X_3 = []\n",
    "Y_3 = []\n",
    "x = 0\n",
    "y = 3\n",
    "numb = 0\n",
    "while(np.linalg.norm(gradient(x, y)) > 0.00000001):\n",
    "    grad = gradient(x, y)\n",
    "    t = find_t_for_min_residual(x, y)\n",
    "    #print(x, y, t, grad[0], grad[1])\n",
    "    x = x - t * grad[0]\n",
    "    y = y -  t * grad[1]\n",
    "    X_3.append(numb)\n",
    "    Y_3.append(math.log(np.linalg.norm(gradient(x, y))))\n",
    "    numb += 1\n",
    "plot = plt.pyplot.scatter(X_3, Y_3, s = 0.001, c = 'b')\n",
    "plt.pyplot.show()\n",
    "print(\"Число итераций: \")\n",
    "print(numb)\n",
    "print(\"Норма невязки: \")\n",
    "print(np.linalg.norm(gradient(x, y)))\n",
    "print(\"Норма ошибки: \")\n",
    "error = [x - 1, y - 1]\n",
    "print(np.linalg.norm(error)) \n",
    "print(\"Решение: \")\n",
    "print(x, y)"
   ]
  },
  {
   "cell_type": "code",
   "execution_count": 21,
   "metadata": {},
   "outputs": [
    {
     "data": {
      "image/png": "[encoded data removed]",
      "text/plain": [
       "<Figure size 432x288 with 1 Axes>"
      ]
     },
     "metadata": {
      "needs_background": "light"
     },
     "output_type": "display_data"
    },
    {
     "name": "stdout",
     "output_type": "stream",
     "text": [
      "Число итераций: \n",
      "45\n",
      "Норма невязки: \n",
      "8.904483952701765e-13\n",
      "Норма ошибки: \n",
      "2.1920285824377244e-12\n",
      "Решение: \n",
      "(0.9999999999990211, 0.9999999999980387)\n"
     ]
    }
   ],
   "source": [
    "#4 способ\n",
    "X_4 = []\n",
    "Y_4 = []\n",
    "x_1 = 0\n",
    "y_1 = 3\n",
    "numb = 0\n",
    "while(np.linalg.norm(gradient(x_1, y_1)) > 0.00000001):\n",
    "    grad = gradient(x_1, y_1)\n",
    "    if(numb == 0):\n",
    "        t = find_t_for_quickest_discent(x_1, y_1)\n",
    "    else:\n",
    "        delta = np.linalg.norm(gradient(x_1, y_1) - gradient(x_0, y_0))\n",
    "        if(delta != 0):\n",
    "            t = np.dot([x_1 - x_0, y_1 - y_0], gradient(x_1, y_1) - gradient(x_0, y_0)) / (delta * delta)\n",
    "        else:\n",
    "            print(\"problem\")\n",
    "            break\n",
    "    #print(x_1, y_1, np.linalg.norm(gradient(x_1, y_1)))\n",
    "    x_0 = x_1\n",
    "    y_0 = y_1\n",
    "    x_1 = x_1 - t * grad[0]\n",
    "    y_1 = y_1 -  t * grad[1]\n",
    "    X_4.append(numb)\n",
    "    Y_4.append(math.log(np.linalg.norm(gradient(x_1, y_1))))\n",
    "    numb += 1\n",
    "plot = plt.pyplot.scatter(X_4, Y_4, s = 1, c = 'g')\n",
    "plt.pyplot.show()\n",
    "print(\"Число итераций: \")\n",
    "print(numb)\n",
    "print(\"Норма невязки: \")\n",
    "print(np.linalg.norm(gradient(x_1, y_1)))\n",
    "print(\"Норма ошибки: \")\n",
    "error = [x_1 - 1, y_1 - 1]\n",
    "print(np.linalg.norm(error)) \n",
    "print(\"Решение: \")\n",
    "print(x_1, y_1)"
   ]
  },
  {
   "cell_type": "code",
   "execution_count": 22,
   "metadata": {},
   "outputs": [
    {
     "data": {
      "image/png": "[encoded data removed]",
      "text/plain": [
       "<Figure size 432x288 with 1 Axes>"
      ]
     },
     "metadata": {
      "needs_background": "light"
     },
     "output_type": "display_data"
    }
   ],
   "source": [
    "plot = plt.pyplot.scatter(X_1, Y_1, s = 0.01, c = 'm')\n",
    "plot = plt.pyplot.scatter(X_2, Y_2, s = 0.001, c = 'r')\n",
    "plot = plt.pyplot.scatter(X_3, Y_3, s = 0.001, c = 'b')\n",
    "plot = plt.pyplot.scatter(X_4, Y_4, s = 1, c = 'g')\n",
    "plt.pyplot.show()"
   ]
  },
  {
   "cell_type": "markdown",
   "metadata": {},
   "source": [
    "|.| Метод 1 (t = 0.0019) | Метод 2 | Метод 3 | Метод 4 |\n",
    "|-|-|-|-|-|\n",
    "|Число итераций|22513|13708|16496|45|\n",
    "|Норма невязки|9.995760711986306e-09|9.998091243884923e-09|9.992464018842715e-09|8.904483952701765e-13|\n",
    "|Норма ошибки|2.5029400473995886e-08|2.240108961939946e-08|2.5015356305358723e-08|2.1920285824377244e-12|"
   ]
  },
  {
   "cell_type": "code",
   "execution_count": null,
   "metadata": {},
   "outputs": [],
   "source": []
  }
 ],
 "metadata": {
  "kernelspec": {
   "display_name": "Python 3",
   "language": "python",
   "name": "python3"
  },
  "language_info": {
   "codemirror_mode": {
    "name": "ipython",
    "version": 3
   },
   "file_extension": ".py",
   "mimetype": "text/x-python",
   "name": "python",
   "nbconvert_exporter": "python",
   "pygments_lexer": "ipython3",
   "version": "3.7.6"
  }
 },
 "nbformat": 4,
 "nbformat_minor": 2
}
