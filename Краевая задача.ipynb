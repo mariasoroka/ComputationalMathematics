{
 "cells": [
  {
   "cell_type": "markdown",
   "metadata": {},
   "source": [
    "$-y\" + y^{\\prime}cos(x - 2)^2 + y \\: tg^2(\\frac{\\pi x}{8}) = \\frac{(x^3 + 1)^{\\frac{3}{2}}}{27}, \\: y(0) = 2, \\: y^{\\prime}(2) = -1.5$"
   ]
  },
  {
   "cell_type": "markdown",
   "metadata": {},
   "source": [
    "Аппроксимация правого граничного условия второго порядка с двумя точками шаблона:\n",
    "\n",
    "$y^{\\prime}(2) = \\frac{y_n - y_{n - 1}}{h} - \\frac{h}{2}y\"(2)$\n",
    "\n",
    "$y\"(2) = y'(2) + y(2) - 1 = \\frac{y_n - y_{n - 1}}{h} + y_n - 1$\n",
    "\n",
    "$y'(2) = y_n(\\frac{1}{h} - \\frac{1 + h}{2}) + y_{n - 1}(-\\frac{1}{h} + \\frac{1}{2}) + \\frac{h}{2}$"
   ]
  },
  {
   "cell_type": "markdown",
   "metadata": {},
   "source": [
    "Аппроксимация уравнения:\n",
    "$-\\frac{y_{i + 1} - 2y_{i} + y_{i - 1}}{h^2} + \\frac{y_{i + 1} - y_{i - 1}}{2h}  cos(ih - 2)^2 + y_i\\: tg^2(\\frac{\\pi ih}{8}) = \\frac{((ih)^3 + 1)^{\\frac{3}{2}}}{27}$\n",
    "\n",
    "$y_0 = 2$\n",
    "\n",
    "$y_n(\\frac{1}{h} - \\frac{1 + h}{2}) + y_{n - 1}(-\\frac{1}{h} + \\frac{1}{2}) + \\frac{h}{2} = -1.5$\n",
    "\n",
    "Решать систему будем методом трехдиагональной прогонки."
   ]
  },
  {
   "cell_type": "markdown",
   "metadata": {},
   "source": [
    "$y_0 = 2$\n",
    "\n",
    "$y_{i + 1}(-\\frac{1}{h^2} + \\frac{1}{2h} cos(ih - 2)^2) + y_i(\\frac{2}{h^2} + tg^2(\\frac{\\pi ih}{8})) + y_{i - 1}(-\\frac{1}{h^2} -  \\frac{1}{2h} cos(ih - 2)^2)) = \\frac{((ih)^3 + 1)^{\\frac{3}{2}}}{27}$\n",
    "\n",
    "$y_n(\\frac{1}{h} - \\frac{1 + h}{2}) + y_{n - 1}(-\\frac{1}{h} + \\frac{1}{2}) + \\frac{h}{2} = -1.5$"
   ]
  },
  {
   "cell_type": "code",
   "execution_count": 1,
   "metadata": {},
   "outputs": [],
   "source": [
    "import numpy as np\n",
    "import matplotlib as plt\n",
    "import math\n",
    "import matplotlib.pyplot"
   ]
  },
  {
   "cell_type": "code",
   "execution_count": 41,
   "metadata": {
    "scrolled": true
   },
   "outputs": [],
   "source": [
    "n = 100000\n",
    "h = 2.0 / n\n",
    "A = []\n",
    "B = []\n",
    "C = []\n",
    "F = []\n",
    "A.append(0.0)\n",
    "B.append(0.0)\n",
    "C.append(1.0)\n",
    "F.append(2.0)\n",
    "for i in range(1, n):\n",
    "    A.append(- 1 / (h * h) - 1 / (2 * h) * math.cos((i * h - 2)**2))\n",
    "    #print( -1 / (h * h), 1 / (2 * h), (i * h - 2)**2,  math.cos((i * h - 2)**2))\n",
    "    C.append(2 / (h * h) + (math.tan(3.14 * i * h / 8))**2)\n",
    "    B.append(- 1 / (h * h) + 1 / (2 * h) * math.cos((i * h - 2)**2))\n",
    "    F.append((((i * h)**3 + 1)**(3.0 / 2)) / 27)\n",
    "A.append(-1 / h + 1 / 2)\n",
    "C.append(1 / h - (1 + h) / 2)\n",
    "B.append(0.0)\n",
    "F.append(-1.5 - h / 2)\n",
    "alfa = np.zeros((n + 1), dtype = float)\n",
    "beta = np.zeros((n + 1), dtype = float)\n",
    "alfa[1] = -B[0] / C[0]\n",
    "beta[1] = F[0] / C[0]\n",
    "for i in range(2, n + 1):\n",
    "    alfa[i] = -B[i - 1] / (A[i - 1] * alfa[i - 1] + C[i - 1])\n",
    "    beta[i] = (F[i - 1] - A[i - 1] * beta[i - 1]) / (A[i - 1] * alfa[i - 1] + C[i - 1])\n",
    "y = np.zeros((n + 1), dtype = float)\n",
    "y[n] = (F[n] - A[n] * beta[n]) / (C[n] + A[n] * alfa[n])\n",
    "for i in range(n - 1, -1, -1):\n",
    "    y[i] = alfa[i + 1] * y[i + 1] + beta[i + 1]\n",
    "x = [i * h for i in range(0, n + 1)]\n",
    "#print(y[n] * (1 / h - (1 + h) / 2) + y[n - 1] * (-1 / h + 1 / 2) - h / 2)\n",
    "# for i in range(1, n - 1):\n",
    "#     print(y[i - 1] * (- 1 / (h * h) - 1 / (2 * h) * math.cos((i * h - 2)**2)) + y[i] * (2 / (h * h) + (math.tan(3.14 * i * h / 8))**2) + y[i + 1] * (- 1 / (h * h) + 1 / (2 * h) * math.cos((i * h - 2)**2)) - ((((i * h)**3 + 1)**(3.0 / 2)) / 27))"
   ]
  },
  {
   "cell_type": "code",
   "execution_count": 42,
   "metadata": {},
   "outputs": [
    {
     "data": {
      "image/png": "[encoded data removed]",
      "text/plain": [
       "<Figure size 432x288 with 1 Axes>"
      ]
     },
     "metadata": {
      "needs_background": "light"
     },
     "output_type": "display_data"
    }
   ],
   "source": [
    "plt.pyplot.plot(x, y, c = 'b', linewidth = 0.5)\n",
    "plt.pyplot.show()"
   ]
  }
 ],
 "metadata": {
  "kernelspec": {
   "display_name": "Python 2",
   "language": "python",
   "name": "python2"
  },
  "language_info": {
   "codemirror_mode": {
    "name": "ipython",
    "version": 2
   },
   "file_extension": ".py",
   "mimetype": "text/x-python",
   "name": "python",
   "nbconvert_exporter": "python",
   "pygments_lexer": "ipython2",
   "version": "2.7.16"
  }
 },
 "nbformat": 4,
 "nbformat_minor": 2
}
