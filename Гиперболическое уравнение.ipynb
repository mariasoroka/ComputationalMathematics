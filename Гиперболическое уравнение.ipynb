{
 "cells": [
  {
   "cell_type": "markdown",
   "metadata": {},
   "source": [
    "$u^\"_{tt} = u^\"_{xx}(x, t), \\: 0 \\leq x \\leq 1, \\: 0 \\leq t \\leq 0.5$\n",
    "\n",
    "$u(0, t) = 0, \\: u(1, t) = 0$\n",
    "\n",
    "$u(x, 0) = (ax^2 + 1.1)sin(\\pi x), \\: u'_t(x, 0) = 0$\n",
    "\n",
    "$a = 1.1 + 0.1k, \\: k = 0, 1, 2, 3, 4$"
   ]
  },
  {
   "cell_type": "markdown",
   "metadata": {},
   "source": [
    "Точное решение задачи по формуле Даламбера:\n",
    "\n",
    "$u(x, t) = \\frac{1}{2}\\phi (x + t) + \\frac{1}{2}\\phi (x - t)$\n",
    "\n",
    "$\\phi (2n + x ) = (ax^2 + 1.1)sin(\\pi x)$\n",
    "\n",
    "$\\phi (2n - x ) = -(ax^2 + 1.1)sin(\\pi x)$"
   ]
  },
  {
   "cell_type": "markdown",
   "metadata": {},
   "source": [
    "Сведем к системе уравнений акустики:\n",
    "$$\n",
    "\\begin{equation}\n",
    "    \\begin{cases}\n",
    "        u'_t - v'_x = 0\\\\\n",
    "        v'_t - u'_x = 0\\\\\n",
    "        u(x, 0) = (ax^2 + 1.1)sin(\\pi x)\\\\\n",
    "        v(x, 0) = 0\\\\\n",
    "        u(0, t) = u(1, t) = 0\\\\\n",
    "    \\end{cases}\n",
    "\\end{equation}\n",
    "$$"
   ]
  },
  {
   "cell_type": "markdown",
   "metadata": {},
   "source": [
    "Будем решать методом с разнесенной сетокой и параметрами $\\xi_1 = \\frac{1}{2}, \\:\\xi_2 = \\frac{1}{2}$, чтобы был второй порядок аппроксимации и схема была безусловно устойчива.\n",
    "\n",
    "$\\frac{y_m^{n + 1} - y_m^n}{t} = \\frac{1}{2}(\\frac{z^{n + 1}_m - z^{n + 1}_{m - 1}}{h} + \\frac{z^{n}_m - z^{n}_{m - 1}}{h})$\n",
    "\n",
    "$\\frac{z_m^{n + 1} - z_m^n}{t} = \\frac{1}{2}(\\frac{y^{n + 1}_{m + 1} - y^{n + 1}_{m}}{h} + \\frac{y^{n}_{m + 1} - y^{n}_{m}}{h})$\n",
    "\n",
    "$y_m^0 = (a(mh)^2 + 1.1)sin(\\pi mh)$\n",
    "\n",
    "$y_0^n = y_M^n = 0$\n",
    "\n",
    "$z^0_m = 0$\n",
    "\n",
    "Это можно на каждом шаге решать как трехдиагональную систему с неизвестным вектором $w = (y_0, z_0, ..., z_{M - 1}, y_{M})$\n",
    "\n",
    "Для устойчивости прогонки достаточно требовать, чтобы $\\frac{t}{h} < 1$"
   ]
  },
  {
   "cell_type": "code",
   "execution_count": 1,
   "metadata": {},
   "outputs": [],
   "source": [
    "import numpy as np\n",
    "import matplotlib as plt\n",
    "import math\n",
    "import matplotlib.pyplot"
   ]
  },
  {
   "cell_type": "code",
   "execution_count": 50,
   "metadata": {},
   "outputs": [],
   "source": [
    "num_nodes = 800\n",
    "k = 1\n",
    "a = 1.1 + 0.1 * k\n",
    "T = 0.5\n",
    "h = 1.0 / num_nodes\n",
    "M = num_nodes + 1\n",
    "t = h / 2\n",
    "N = int(T / t) + 1\n",
    "w_curr = np.zeros((2 * M - 1), dtype = float) \n",
    "w_prev = np.zeros((2 * M - 1), dtype = float)\n",
    "x = [i * h for i in range(0, M)]\n",
    "for i in range(0, 2 * M - 1):\n",
    "    if i % 2 == 0:\n",
    "        w_prev[i] = (a * x[i / 2] * x[i / 2] + 1.1) * math.sin(math.pi * x[i / 2]) #начальные условия\n",
    "A = [] # В прогонке все, кроме столбца правой части можно заполнить заранее\n",
    "B = []\n",
    "C = []\n",
    "A.append(0.0)\n",
    "B.append(0.0)\n",
    "C.append(1.0)\n",
    "for i in range(1, 2 * M - 2):\n",
    "        A.append(1.0 / (2 * h))\n",
    "        C.append(1.0 / t)\n",
    "        B.append(- 1.0 / (2 * h))\n",
    "A.append(0.0)\n",
    "B.append(0.0)\n",
    "C.append(1.0)\n",
    "for n in range(1, N):\n",
    "    F = []\n",
    "    F.append(0.0)\n",
    "    for i in range(1, 2 * M - 2):\n",
    "        F.append(w_prev[i] / t + (w_prev[i + 1] - w_prev[i - 1]) / (2 * h))\n",
    "    F.append(0.0)\n",
    "    alfa = np.zeros(2 * M - 1, dtype = float)\n",
    "    beta = np.zeros(2 * M - 1, dtype = float)\n",
    "    alfa[1] = -B[0] / C[0]\n",
    "    beta[1] = F[0] / C[0]\n",
    "    for i in range(2, 2 * M - 1):\n",
    "        alfa[i] = -B[i - 1] / (A[i - 1] * alfa[i - 1] + C[i - 1])\n",
    "        beta[i] = (F[i - 1] - A[i - 1] * beta[i - 1]) / (A[i - 1] * alfa[i - 1] + C[i - 1])\n",
    "    w_curr[2 * M - 2] = (F[2 * M - 2] - A[2 * M - 2] * beta[2 * M - 2]) / (C[2 * M - 2] + A[2 * M - 2] * alfa[2 * M - 2])\n",
    "    for i in range(2 * M - 3, -1, -1):\n",
    "        w_curr[i] = alfa[i + 1] * w_curr[i + 1] + beta[i + 1]\n",
    "    for m in range(0, 2 * M - 1):\n",
    "        w_prev[m] = w_curr[m]\n"
   ]
  },
  {
   "cell_type": "code",
   "execution_count": 51,
   "metadata": {},
   "outputs": [],
   "source": [
    "y = [w_curr[i] for i in range(0, 2 * M - 1, 2)]"
   ]
  },
  {
   "cell_type": "code",
   "execution_count": 52,
   "metadata": {},
   "outputs": [],
   "source": [
    "y_exact = np.zeros(M, dtype = float) \n",
    "for i in range(M):\n",
    "    if (x[i] + T) < 1.0:\n",
    "        y_exact[i] = (1.0 / 2) * ((a * (x[i] + T) * (x[i] + T) + 1.1) * math.sin(math.pi * (x[i] + T)) + (a * (x[i] - T) * (x[i] - T) + 1.1) * math.sin(math.pi * (x[i] - T)))\n",
    "    else:\n",
    "        z = 2.0 - (x[i] + T)\n",
    "        y_exact[i] = (1.0 / 2) * (-(a * z * z + 1.1) * math.sin(math.pi * z) + (a * (x[i] - T) * (x[i] - T) + 1.1) * math.sin(math.pi * (x[i] - T)))\n",
    "        "
   ]
  },
  {
   "cell_type": "code",
   "execution_count": 53,
   "metadata": {},
   "outputs": [
    {
     "name": "stdout",
     "output_type": "stream",
     "text": [
      "9.861864287161702e-05\n"
     ]
    },
    {
     "data": {
      "image/png": "[encoded data removed]",
      "text/plain": [
       "<Figure size 720x720 with 1 Axes>"
      ]
     },
     "metadata": {
      "needs_background": "light"
     },
     "output_type": "display_data"
    }
   ],
   "source": [
    "plt.pyplot.figure(figsize=(10,10))\n",
    "err = max(abs(y_exact - y))\n",
    "print(err)\n",
    "plt.pyplot.plot(x, y, c = 'b', linewidth = 0.5)\n",
    "plt.pyplot.plot(x, y_exact, c = 'r', linewidth = 0.5)\n",
    "plt.pyplot.show()"
   ]
  }
 ],
 "metadata": {
  "kernelspec": {
   "display_name": "Python 3",
   "language": "python",
   "name": "python3"
  },
  "language_info": {
   "codemirror_mode": {
    "name": "ipython",
    "version": 3
   },
   "file_extension": ".py",
   "mimetype": "text/x-python",
   "name": "python",
   "nbconvert_exporter": "python",
   "pygments_lexer": "ipython3",
   "version": "3.7.6"
  }
 },
 "nbformat": 4,
 "nbformat_minor": 2
}
