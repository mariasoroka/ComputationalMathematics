{
 "cells": [
  {
   "cell_type": "code",
   "execution_count": 44,
   "metadata": {},
   "outputs": [],
   "source": [
    "import numpy as np\n",
    "import matplotlib as plt\n",
    "import math\n",
    "import matplotlib.pyplot"
   ]
  },
  {
   "cell_type": "code",
   "execution_count": 45,
   "metadata": {},
   "outputs": [],
   "source": [
    "def f(x):\n",
    "    if(x != 0):\n",
    "        y = x * math.sin(x) / math.log1p(x)\n",
    "    else:\n",
    "        y = 0.0\n",
    "    return y"
   ]
  },
  {
   "cell_type": "code",
   "execution_count": 46,
   "metadata": {},
   "outputs": [],
   "source": [
    "#расчет интеграла по методу трапеций\n",
    "def I(n):\n",
    "    I_n = 0.0\n",
    "    for i in range(0, n + 1):\n",
    "        if (i == 0 or i == n):\n",
    "            I_n += 1 / 2 * f(float(i) / n)\n",
    "        else:\n",
    "            I_n += f(float(i) / n)\n",
    "    I_n /= n\n",
    "    return I_n"
   ]
  },
  {
   "cell_type": "code",
   "execution_count": 49,
   "metadata": {},
   "outputs": [
    {
     "data": {
      "image/png": "[encoded data removed]",
      "text/plain": [
       "<Figure size 432x288 with 1 Axes>"
      ]
     },
     "metadata": {
      "needs_background": "light"
     },
     "output_type": "display_data"
    }
   ],
   "source": [
    "p = 2\n",
    "x = []\n",
    "y = []\n",
    "for n in range(100, 120000, 100):\n",
    "    I_1 = I(2 * n)\n",
    "    I_2 = I(n)\n",
    "    r_I_1 = (I_1 - I_2) / (2**p - 1)\n",
    "    x.append(2 * n)\n",
    "    y.append(math.log(abs(r_I_1), 10))\n",
    "plot = plt.pyplot.scatter(x, y, s = 0.5, c = 'b')\n",
    "plt.pyplot.show()"
   ]
  },
  {
   "cell_type": "code",
   "execution_count": 51,
   "metadata": {},
   "outputs": [
    {
     "name": "stdout",
     "output_type": "stream",
     "text": [
      "Значение интеграла:\n",
      "0.596610286402\n",
      "Погрешность:\n",
      "9.19686176622e-07\n"
     ]
    }
   ],
   "source": [
    "n = 110000\n",
    "I_1 = I(2 * n)\n",
    "I_2 = I(n)\n",
    "r_I_1 = (I_1 - I_2) / (2**p - 1)\n",
    "print(\"Значение интеграла:\")\n",
    "print(I_1)\n",
    "print(\"Погрешность:\")\n",
    "print(r_I_1)"
   ]
  }
 ],
 "metadata": {
  "kernelspec": {
   "display_name": "Python 2",
   "language": "python",
   "name": "python2"
  },
  "language_info": {
   "codemirror_mode": {
    "name": "ipython",
    "version": 2
   },
   "file_extension": ".py",
   "mimetype": "text/x-python",
   "name": "python",
   "nbconvert_exporter": "python",
   "pygments_lexer": "ipython2",
   "version": "2.7.16"
  }
 },
 "nbformat": 4,
 "nbformat_minor": 2
}
