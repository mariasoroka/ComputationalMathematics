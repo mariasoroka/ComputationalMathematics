{
 "cells": [
  {
   "cell_type": "code",
   "execution_count": 2,
   "metadata": {},
   "outputs": [],
   "source": [
    "import numpy as np\n",
    "import matplotlib as plt\n",
    "import math\n",
    "import matplotlib.pyplot\n",
    "#%matplotlib inline"
   ]
  },
  {
   "cell_type": "markdown",
   "metadata": {},
   "source": [
    "n = 100"
   ]
  },
  {
   "cell_type": "code",
   "execution_count": 265,
   "metadata": {},
   "outputs": [],
   "source": [
    "IA = []\n",
    "JA = []\n",
    "AIJ = []\n",
    "f = open('matrix5_n100.mycsr', 'r')\n",
    "for line in f:\n",
    "    line_splited = line.split()\n",
    "    if line_splited[0] == 'n':\n",
    "        n = int(line_splited[2])\n",
    "        nnz = int(line_splited[5])\n",
    "    elif line_splited[0] == 'VECTOR':\n",
    "        if line_splited[1] == 'IA':\n",
    "            IA_size = int(line_splited[3])\n",
    "            array_to_read = 'IA'\n",
    "        elif line_splited[1] == 'JA':\n",
    "            array_to_read = 'JA' \n",
    "        else:\n",
    "            array_to_read = 'AIJ' \n",
    "    else:\n",
    "        if(array_to_read == 'IA'):\n",
    "            for item in line_splited:\n",
    "                IA.append(int(item))\n",
    "        elif(array_to_read == 'JA'):\n",
    "            for item in line_splited:\n",
    "                JA.append(int(item))\n",
    "        else:\n",
    "            for item in line_splited:\n",
    "                AIJ.append(float(item))"
   ]
  },
  {
   "cell_type": "code",
   "execution_count": 266,
   "metadata": {},
   "outputs": [],
   "source": [
    "def mult(n, IA_size, nnz, IA, JA, AIJ, vector):\n",
    "    res = np.zeros(n)\n",
    "    for i in range(0, IA_size):\n",
    "        if(i != IA_size - 1):\n",
    "            for j in range(int(IA[i]), int(IA[i + 1])):\n",
    "                res[i] = res[i] + AIJ[j] * vector[JA[j]]\n",
    "        else:\n",
    "            for j in range(int(IA[i]), int(nnz)):\n",
    "                res[i] = res[i] + AIJ[j] * vector[JA[j]] \n",
    "    return(res)"
   ]
  },
  {
   "cell_type": "code",
   "execution_count": 267,
   "metadata": {},
   "outputs": [],
   "source": [
    "IA_D_inv = np.zeros(IA_size)\n",
    "JA_D_inv = []\n",
    "AIJ_D_inv = []\n",
    "IA_L_U = np.zeros(IA_size)\n",
    "IA_L_U[0] = 0\n",
    "JA_L_U = []\n",
    "AIJ_L_U = []\n",
    "nnz_L_U = 0\n",
    "nnz_D_inv = n\n",
    "for i in range(0, IA_size):\n",
    "    t = 0\n",
    "    if(i != IA_size - 1):\n",
    "        for j in range(IA[i], IA[i + 1]):\n",
    "            if(JA[j] == i):\n",
    "                AIJ_D_inv.append(-1 / AIJ[j])\n",
    "                JA_D_inv.append(i) \n",
    "            else:\n",
    "                AIJ_L_U.append(AIJ[j])\n",
    "                JA_L_U.append(JA[j])\n",
    "                nnz_L_U += 1\n",
    "                t += 1\n",
    "        IA_L_U[i + 1] = IA_L_U[i] + t\n",
    "    else:\n",
    "        for j in range(IA[i], nnz):\n",
    "            if(JA[j] == i):\n",
    "                AIJ_D_inv.append(-1 / AIJ[j])\n",
    "                JA_D_inv.append(i) \n",
    "            else:\n",
    "                AIJ_L_U.append(AIJ[j])\n",
    "                JA_L_U.append(JA[j])\n",
    "                nnz_L_U += 1\n",
    "    IA_D_inv[i] = i"
   ]
  },
  {
   "cell_type": "code",
   "execution_count": 268,
   "metadata": {},
   "outputs": [
    {
     "name": "stdout",
     "output_type": "stream",
     "text": [
      "Норма отклонения полученного решения(1, 2, 3):\n",
      "4.559629430566652e+217\n",
      "2.7690410767068155e+219\n",
      "inf\n",
      "Не сошелся\n",
      "Коэффицент наклона:\n",
      "0.5078737293198106\n",
      "Норма матрицы, расчитанная из графика:\n",
      "1.24678315489\n"
     ]
    },
    {
     "data": {
      "image/png": "[encoded data removed]",
      "text/plain": [
       "<Figure size 432x288 with 1 Axes>"
      ]
     },
     "metadata": {
      "needs_background": "light"
     },
     "output_type": "display_data"
    }
   ],
   "source": [
    "#Метод Якоби\n",
    "x_Jacobi = []\n",
    "y_Jacobi = []\n",
    "x_1 = np.zeros(n)\n",
    "x_1[1] = 0.1\n",
    "i = 0\n",
    "while (np.linalg.norm(x_1, np.inf) > 0.0000000001 and i < 1000):\n",
    "    x_2 = mult(n, IA_size, nnz_L_U, IA_L_U, JA_L_U, AIJ_L_U, x_1)\n",
    "    x_1 = mult(n, IA_size, nnz_D_inv, IA_D_inv, JA_D_inv, AIJ_D_inv, x_2)\n",
    "    i += 1\n",
    "    x_Jacobi.append(i)\n",
    "    y_Jacobi.append(math.log(np.linalg.norm(x_1, np.inf)))\n",
    "#print(\"Решение:\")\n",
    "#print(x_1)\n",
    "print(\"Норма отклонения полученного решения(1, 2, 3):\")\n",
    "print(np.linalg.norm(x_1, np.inf))\n",
    "print(np.linalg.norm(x_1, 1))\n",
    "print(np.linalg.norm(x_1))\n",
    "if i != 1000:\n",
    "    print(\"Число итериций:\")\n",
    "    print(i)\n",
    "else:\n",
    "    print(\"Не сошелся\")\n",
    "k = np.polyfit(x_Jacobi, y_Jacobi, 1)\n",
    "y_Jacobi_linear = []\n",
    "x_Jacobi_linear = []\n",
    "for item in x_Jacobi:\n",
    "    x_Jacobi_linear.append(item)\n",
    "    y_Jacobi_linear.append(item * k[0] + k[1])\n",
    "print(\"Коэффицент наклона:\")\n",
    "print (k[0])\n",
    "print(\"Норма матрицы, расчитанная из графика:\")\n",
    "print (math.exp(k[0] / -math.log(0.1)))\n",
    "plot = plt.pyplot.scatter(x_Jacobi, y_Jacobi, s = 0.01, c = 'b')\n",
    "plot = plt.pyplot.scatter(x_Jacobi_linear, y_Jacobi_linear, s = 0.01, c = 'r')\n",
    "plt.pyplot.show()"
   ]
  },
  {
   "cell_type": "code",
   "execution_count": 269,
   "metadata": {},
   "outputs": [],
   "source": [
    "IA_U = np.zeros(IA_size)\n",
    "JA_U = []\n",
    "AIJ_U = []\n",
    "IA_U[0] = 0\n",
    "IA_L_D_inv = np.zeros(IA_size)\n",
    "JA_L_D_inv = []\n",
    "AIJ_L_D_inv = []\n",
    "IA_L_D_inv[0] = 0\n",
    "nnz_U = 0\n",
    "nnz_L_D_inv = 0\n",
    "for i in range(0, IA_size):\n",
    "    t_U = 0\n",
    "    t = 0\n",
    "    if(i != IA_size - 1):\n",
    "        for j in range(IA[i], IA[i + 1]):\n",
    "            if(JA[j] > i):\n",
    "                AIJ_U.append(AIJ[j])\n",
    "                JA_U.append(JA[j]) \n",
    "                t_U += 1\n",
    "                nnz_U += 1\n",
    "#            elif(JA[j] < i):\n",
    "#                a = 0\n",
    "#                for k in range(JA[j], i):\n",
    "#                    if JA[j] in JA_L_D_inv[int(IA_L_D_inv[k]):int(IA_L_D_inv[k + 1])] and k in JA[IA[i]: IA[i + 1]]:\n",
    "#                        a += AIJ[JA.index(k, IA[i], IA[i + 1])] * AIJ_L_D_inv[JA_L_D_inv.index(JA[j], int(IA_L_D_inv[k]), int(IA_L_D_inv[k + 1]))]\n",
    "#                a /= -AIJ[JA.index(i, IA[i], IA[i + 1])]\n",
    "#                if(a != 0):\n",
    "#                    AIJ_L_D_inv.append(a)\n",
    "#                    JA_L_D_inv.append(JA[j])\n",
    "#                    nnz_L_D_inv += 1\n",
    "#                    t += 1\n",
    "#            else:\n",
    "#                a = 1 / AIJ[JA.index(i, IA[i], IA[i + 1])]\n",
    "#                AIJ_L_D_inv.append(a)\n",
    "#                JA_L_D_inv.append(i)\n",
    "#                nnz_L_D_inv += 1\n",
    "#                t += 1\n",
    "            elif(JA[j] == i):\n",
    "                for Q in range (0, i):\n",
    "                    a = 0\n",
    "                    for k in range(Q, i):\n",
    "                        if Q in JA_L_D_inv[int(IA_L_D_inv[k]):int(IA_L_D_inv[k + 1])] and k in JA[IA[i]: IA[i + 1]]:\n",
    "                            a += AIJ[JA.index(k, IA[i], IA[i + 1])] * AIJ_L_D_inv[JA_L_D_inv.index(Q, int(IA_L_D_inv[k]), int(IA_L_D_inv[k + 1]))]\n",
    "                    a /= -AIJ[JA.index(i, IA[i], IA[i + 1])]\n",
    "                    if(a != 0):\n",
    "                        AIJ_L_D_inv.append(a)\n",
    "                        JA_L_D_inv.append(Q)\n",
    "                        nnz_L_D_inv += 1\n",
    "                        t += 1\n",
    "                a = 1 / AIJ[JA.index(i, IA[i], IA[i + 1])]\n",
    "                AIJ_L_D_inv.append(a)\n",
    "                JA_L_D_inv.append(i)\n",
    "                nnz_L_D_inv += 1\n",
    "                t += 1\n",
    "        IA_U[i + 1] = IA_U[i] + t_U\n",
    "        IA_L_D_inv[i + 1] = IA_L_D_inv[i] + t\n",
    "    else:\n",
    "        for j in range(IA[i], nnz):\n",
    "            if(JA[j] > i):\n",
    "                AIJ_U.append(AIJ[j])\n",
    "                JA_U.append(JA[j]) \n",
    "                t_U += 1\n",
    "                nnz_U += 1\n",
    " #           elif(JA[j] < i):\n",
    " #               a = 0\n",
    " #               for k in range(JA[j], i):\n",
    " #                   if JA[j] in JA_L_D_inv[int(IA_L_D_inv[k]):int(IA_L_D_inv[k + 1])] and k in JA[IA[i]: nnz]:\n",
    " #                       a += AIJ[JA.index(k, IA[i], nnz)] * AIJ_L_D_inv[JA_L_D_inv.index(JA[j], int(IA_L_D_inv[k]), int(IA_L_D_inv[k + 1]))]\n",
    " #               a /= -AIJ[JA.index(i, IA[i], nnz)]\n",
    " #               if(a != 0):\n",
    " #                   AIJ_L_D_inv.append(a)\n",
    " #                   JA_L_D_inv.append(JA[j])\n",
    " #                   nnz_L_D_inv += 1\n",
    " #           else:\n",
    " #               a = 1 / AIJ[JA.index(i, IA[i], nnz)]\n",
    " #               AIJ_L_D_inv.append(a)\n",
    " #               JA_L_D_inv.append(i)\n",
    " #               nnz_L_D_inv += 1\n",
    "            elif(JA[j] == i):\n",
    "                for Q in range (0, i):\n",
    "                    a = 0\n",
    "                    for k in range(Q, i):\n",
    "                        if Q in JA_L_D_inv[int(IA_L_D_inv[k]):int(IA_L_D_inv[k + 1])] and k in JA[IA[i]: nnz]:\n",
    "                            a += AIJ[JA.index(k, IA[i], nnz)] * AIJ_L_D_inv[JA_L_D_inv.index(Q, int(IA_L_D_inv[k]), int(IA_L_D_inv[k + 1]))]\n",
    "                    a /= -AIJ[JA.index(i, IA[i], nnz)]\n",
    "                    if(a != 0):\n",
    "                        AIJ_L_D_inv.append(a)\n",
    "                        JA_L_D_inv.append(Q)\n",
    "                        nnz_L_D_inv += 1\n",
    "                        t += 1\n",
    "                a = 1 / AIJ[JA.index(i, IA[i], nnz)]\n",
    "                AIJ_L_D_inv.append(a)\n",
    "                JA_L_D_inv.append(i)\n",
    "                nnz_L_D_inv += 1\n",
    "                t += 1\n",
    "#print(IA_L_D_inv)\n",
    "#print(JA_L_D_inv)\n",
    "#print(AIJ_L_D_inv)   "
   ]
  },
  {
   "cell_type": "code",
   "execution_count": 270,
   "metadata": {},
   "outputs": [
    {
     "name": "stdout",
     "output_type": "stream",
     "text": [
      "Норма отклонения полученного решения(1, 2, 3):\n",
      "8.917405647504895e-08\n",
      "1.245748122921122e-06\n",
      "2.5742399747809317e-07\n",
      "Не сошелся\n",
      "Коэффицент наклона:\n",
      "-0.005117763481940722\n",
      "Норма матрицы, расчитанная из графика:\n",
      "0.997779851743\n"
     ]
    },
    {
     "data": {
      "image/png": "[encoded data removed]",
      "text/plain": [
       "<Figure size 432x288 with 1 Axes>"
      ]
     },
     "metadata": {
      "needs_background": "light"
     },
     "output_type": "display_data"
    }
   ],
   "source": [
    "#Метод Зейделя\n",
    "x_Zeydel = []\n",
    "y_Zeydel = []\n",
    "x_1 = np.zeros(n)\n",
    "x_1[1] = 0.01\n",
    "i = 0\n",
    "f = np.zeros(n)\n",
    "nev = np.zeros(n)\n",
    "#f[0] = 6.0015999999999998\n",
    "#f[1] = -4.0\n",
    "#f[2] = 1.0\n",
    "#f[3] = 0.1\n",
    "#f[4] = 0.0\n",
    "f_1 = np.zeros(n)\n",
    "f_1 = mult(n, IA_size, nnz_L_D_inv, IA_L_D_inv, JA_L_D_inv, AIJ_L_D_inv, f)\n",
    "nev = mult(n, IA_size, nnz, IA, JA, AIJ, x_1)\n",
    "nev -= f\n",
    "while (np.linalg.norm(nev, np.inf) > 0.0000000001 and i < 1000):\n",
    "    #print(x_1)\n",
    "    x_2 = mult(n, IA_size, nnz_U, IA_U, JA_U, AIJ_U, x_1)\n",
    "    #print(x_2)\n",
    "    x_1 = -mult(n, IA_size, nnz_L_D_inv, IA_L_D_inv, JA_L_D_inv, AIJ_L_D_inv, x_2)\n",
    "    #print(x_1)\n",
    "    x_1 += f_1\n",
    "    #print(np.linalg.norm(nev, np.inf))\n",
    "    \n",
    "    i += 1\n",
    "    \n",
    "    nev = mult(n, IA_size, nnz, IA, JA, AIJ, x_1)\n",
    "    nev = nev - f\n",
    "    #print(np.linalg.norm(nev, np.inf))\n",
    "    if(np.linalg.norm(nev, np.inf) != 0):\n",
    "        y_Zeydel.append(math.log(np.linalg.norm(nev, np.inf)))\n",
    "        x_Zeydel.append(i)\n",
    "    else:\n",
    "        break\n",
    "#print(\"Решение:\")\n",
    "#print(x_1)\n",
    "print(\"Норма отклонения полученного решения(1, 2, 3):\")\n",
    "print(np.linalg.norm(nev, np.inf))\n",
    "print(np.linalg.norm(nev, 1))\n",
    "print(np.linalg.norm(nev))\n",
    "if i != 1000:\n",
    "    print(\"Число итериций:\")\n",
    "    print(i)\n",
    "else:\n",
    "    print(\"Не сошелся\")\n",
    "#print(x_1)\n",
    "#print(f_1)\n",
    "k = np.polyfit(x_Zeydel, y_Zeydel, 1)\n",
    "y_Zeydel_linear = []\n",
    "x_Zeydel_linear = []\n",
    "for item in x_Zeydel:\n",
    "    x_Zeydel_linear.append(item)\n",
    "    y_Zeydel_linear.append(item * k[0] + k[1])\n",
    "print(\"Коэффицент наклона:\")\n",
    "print (k[0])\n",
    "print(\"Норма матрицы, расчитанная из графика:\")\n",
    "print (math.exp(k[0] / -math.log(0.1)))\n",
    "plot = plt.pyplot.scatter(x_Zeydel, y_Zeydel, s = 0.1, c = 'b')\n",
    "plot = plt.pyplot.scatter(x_Zeydel_linear, y_Zeydel_linear, s = 0.1, c = 'r')\n",
    "plt.pyplot.show()"
   ]
  },
  {
   "cell_type": "code",
   "execution_count": 271,
   "metadata": {
    "scrolled": true
   },
   "outputs": [
    {
     "name": "stdout",
     "output_type": "stream",
     "text": [
      "(4.634902012576396e-06, 15.992306143853462, 0.12506010092405423)\n"
     ]
    }
   ],
   "source": [
    "#Расчет оптимального тау для метода простых итераций\n",
    "A = np.zeros((n, n))\n",
    "for i in range(0, IA_size):\n",
    "    if(i != IA_size - 1):\n",
    "        for j in range(IA[i], IA[i + 1]):\n",
    "            A[JA[j], i] = AIJ[j]\n",
    "    else:\n",
    "        for j in range(IA[i], nnz):\n",
    "            A[JA[j], i] = AIJ[j]\n",
    "Q = np.linalg.eig(A)[0]\n",
    "L_min = min(Q)\n",
    "L_max = max(Q)\n",
    "T_opt = 2 / (L_min + L_max)\n",
    "print(L_min, L_max, T_opt)"
   ]
  },
  {
   "cell_type": "code",
   "execution_count": 272,
   "metadata": {},
   "outputs": [],
   "source": [
    "IA_Simple = IA\n",
    "JA_Simple = JA\n",
    "AIJ_Simple = []\n",
    "nnz_Simple = nnz\n",
    "for i in range(0, IA_size):\n",
    "    t = 0\n",
    "    if(i != IA_size - 1):\n",
    "        for j in range(IA[i], IA[i + 1]):\n",
    "            if(JA[j] == i):\n",
    "                AIJ_Simple.append(1 - T_opt * AIJ[j])\n",
    "            else:\n",
    "                AIJ_Simple.append(- T_opt * AIJ[j])\n",
    "    else:\n",
    "        for j in range(IA[i], nnz):\n",
    "            if(JA[j] == i):\n",
    "                AIJ_Simple.append(1 - T_opt * AIJ[j])\n",
    "            else:\n",
    "                AIJ_Simple.append(- T_opt * AIJ[j])"
   ]
  },
  {
   "cell_type": "code",
   "execution_count": 273,
   "metadata": {
    "scrolled": true
   },
   "outputs": [
    {
     "name": "stdout",
     "output_type": "stream",
     "text": [
      "Норма отклонения полученного решения(1, 2, 3):\n",
      "0.000357348922616444\n",
      "0.01190154434664529\n",
      "0.0014192105219835098\n",
      "Не сошелся\n",
      "Коэффицент наклона:\n",
      "-0.00019173056742533554\n",
      "Норма матрицы, расчитанная из графика:\n",
      "0.999916735939\n"
     ]
    },
    {
     "data": {
      "image/png": "[encoded data removed]",
      "text/plain": [
       "<Figure size 432x288 with 1 Axes>"
      ]
     },
     "metadata": {
      "needs_background": "light"
     },
     "output_type": "display_data"
    }
   ],
   "source": [
    "#Метод простых итераций\n",
    "x_Simple = []\n",
    "y_Simple = []\n",
    "x_1 = np.zeros(n)\n",
    "x_1[1] = 0.1\n",
    "i = 0\n",
    "while (np.linalg.norm(x_1, np.inf) > 0.0000000001 and i < 10000):\n",
    "    x_2 = mult(n, IA_size, nnz_Simple, IA_Simple, JA_Simple, AIJ_Simple, x_1)\n",
    "    x_1 = x_2\n",
    "    i += 1\n",
    "    x_Simple.append(i)\n",
    "    y_Simple.append(math.log(np.linalg.norm(x_1, np.inf)))\n",
    "#print(\"Решение:\")\n",
    "#print(x_1)\n",
    "print(\"Норма отклонения полученного решения(1, 2, 3):\")\n",
    "print(np.linalg.norm(x_1, np.inf))\n",
    "print(np.linalg.norm(x_1, 1))\n",
    "print(np.linalg.norm(x_1))\n",
    "if i != 10000:\n",
    "    print(\"Число итериций:\")\n",
    "    print(i)\n",
    "else:\n",
    "    print(\"Не сошелся\")\n",
    "k = np.polyfit(x_Simple, y_Simple, 1)\n",
    "y_Simple_linear = []\n",
    "x_Simple_linear = []\n",
    "for item in x_Simple:\n",
    "    x_Simple_linear.append(item)\n",
    "    y_Simple_linear.append(item * k[0] + k[1])\n",
    "print(\"Коэффицент наклона:\")\n",
    "print (k[0])\n",
    "print(\"Норма матрицы, расчитанная из графика:\")\n",
    "print (math.exp(k[0] / -math.log(0.1)))\n",
    "plot = plt.pyplot.scatter(x_Simple, y_Simple, s = 0.01, c = 'b')\n",
    "plot = plt.pyplot.scatter(x_Simple_linear, y_Simple_linear, s = 0.01, c = 'r')\n",
    "plt.pyplot.show()"
   ]
  },
  {
   "cell_type": "code",
   "execution_count": 274,
   "metadata": {},
   "outputs": [
    {
     "name": "stdout",
     "output_type": "stream",
     "text": [
      "Норма отклонения полученного решения(1, 2, 3):\n",
      "9.16770208166649e-11\n",
      "2.95652259629363e-09\n",
      "3.8014368040093506e-10\n",
      "Число итериций:\n",
      "336\n",
      "Коэффицент наклона:\n",
      "-0.04170327758693134\n"
     ]
    },
    {
     "data": {
      "image/png": "[encoded data removed]",
      "text/plain": [
       "<Figure size 432x288 with 1 Axes>"
      ]
     },
     "metadata": {
      "needs_background": "light"
     },
     "output_type": "display_data"
    }
   ],
   "source": [
    "# Метод сопряженных градиентов\n",
    "x_Gradient = []\n",
    "y_Gradient = []\n",
    "x_1 = np.zeros(n)\n",
    "x_1[1] = 0.1\n",
    "r_1 = r_2 = mult(n, IA_size, nnz, IA, JA, AIJ, x_1)\n",
    "s = r_1\n",
    "i = 0\n",
    "while (np.linalg.norm(x_1, np.inf) > 0.0000000001 and i < 5000):\n",
    "    t = mult(n, IA_size, nnz, IA, JA, AIJ, s)\n",
    "    a = np.matmul(r_1, r_1) / np.matmul(t, s)\n",
    "    r_2 = r_1 - a * t\n",
    "    x_1 = x_1 - a * s\n",
    "    b = np.matmul(r_2, r_2) / np.matmul(r_1, r_1)\n",
    "    s = r_2 + b * s\n",
    "    r_1 = r_2\n",
    "    i += 1\n",
    "    x_Gradient.append(i)\n",
    "    y_Gradient.append(math.log(np.linalg.norm(x_1, np.inf)))\n",
    "#print(\"Решение:\")\n",
    "#print(x_1)\n",
    "print(\"Норма отклонения полученного решения(1, 2, 3):\")\n",
    "print(np.linalg.norm(x_1, np.inf))\n",
    "print(np.linalg.norm(x_1, 1))\n",
    "print(np.linalg.norm(x_1))\n",
    "if i != 5000:\n",
    "    print(\"Число итериций:\")\n",
    "    print(i)\n",
    "else:\n",
    "    print(\"Не сошелся\")\n",
    "k = np.polyfit(x_Gradient, y_Gradient, 1)\n",
    "y_Gradient_linear = []\n",
    "x_Gradient_linear = []\n",
    "for item in x_Gradient:\n",
    "    x_Gradient_linear.append(item)\n",
    "    y_Gradient_linear.append(item * k[0] + k[1])\n",
    "print(\"Коэффицент наклона:\")\n",
    "print (k[0])\n",
    "plot = plt.pyplot.scatter(x_Gradient, y_Gradient, s = 0.1, c = 'b')\n",
    "plot = plt.pyplot.scatter(x_Gradient_linear, y_Gradient_linear, s = 0.01, c = 'r')\n",
    "plt.pyplot.show()"
   ]
  },
  {
   "cell_type": "code",
   "execution_count": 275,
   "metadata": {},
   "outputs": [
    {
     "data": {
      "image/png": "[encoded data removed]",
      "text/plain": [
       "<Figure size 432x288 with 1 Axes>"
      ]
     },
     "metadata": {
      "needs_background": "light"
     },
     "output_type": "display_data"
    }
   ],
   "source": [
    "plot = plt.pyplot.scatter(x_Jacobi, y_Jacobi, s = 0.01, c = 'r')\n",
    "plot = plt.pyplot.scatter(x_Zeydel, y_Zeydel, s = 0.1, c = 'g')\n",
    "plot = plt.pyplot.scatter(x_Simple, y_Simple, s = 0.01, c = 'b')\n",
    "plot = plt.pyplot.scatter(x_Gradient, y_Gradient, s = 3, c = 'm')\n",
    "plt.pyplot.show()"
   ]
  },
  {
   "cell_type": "code",
   "execution_count": 276,
   "metadata": {
    "scrolled": false
   },
   "outputs": [
    {
     "data": {
      "image/png": "[encoded data removed]",
      "text/plain": [
       "<Figure size 432x288 with 1 Axes>"
      ]
     },
     "metadata": {
      "needs_background": "light"
     },
     "output_type": "display_data"
    }
   ],
   "source": [
    "plot = plt.pyplot.scatter(x_Zeydel, y_Zeydel, s = 0.1, c = 'g')\n",
    "plot = plt.pyplot.scatter(x_Simple, y_Simple, s = 0.01, c = 'b')\n",
    "plot = plt.pyplot.scatter(x_Gradient, y_Gradient, s = 3, c = 'm')\n",
    "plt.pyplot.show()"
   ]
  },
  {
   "cell_type": "markdown",
   "metadata": {},
   "source": [
    "n = 1000"
   ]
  },
  {
   "cell_type": "code",
   "execution_count": 277,
   "metadata": {},
   "outputs": [],
   "source": [
    "IA = []\n",
    "JA = []\n",
    "AIJ = []\n",
    "f = open('matrix5_n1000.mycsr', 'r')\n",
    "for line in f:\n",
    "    line_splited = line.split()\n",
    "    if line_splited[0] == 'n':\n",
    "        n = int(line_splited[2])\n",
    "        nnz = int(line_splited[5])\n",
    "    elif line_splited[0] == 'VECTOR':\n",
    "        if line_splited[1] == 'IA':\n",
    "            IA_size = int(line_splited[3])\n",
    "            array_to_read = 'IA'\n",
    "        elif line_splited[1] == 'JA':\n",
    "            array_to_read = 'JA' \n",
    "        else:\n",
    "            array_to_read = 'AIJ' \n",
    "    else:\n",
    "        if(array_to_read == 'IA'):\n",
    "            for item in line_splited:\n",
    "                IA.append(int(item))\n",
    "        elif(array_to_read == 'JA'):\n",
    "            for item in line_splited:\n",
    "                JA.append(int(item))\n",
    "        else:\n",
    "            for item in line_splited:\n",
    "                AIJ.append(float(item))"
   ]
  },
  {
   "cell_type": "code",
   "execution_count": 278,
   "metadata": {},
   "outputs": [],
   "source": [
    "def mult(n, IA_size, nnz, IA, JA, AIJ, vector):\n",
    "    res = np.zeros(n)\n",
    "    for i in range(0, IA_size):\n",
    "        if(i != IA_size - 1):\n",
    "            for j in range(int(IA[i]), int(IA[i + 1])):\n",
    "                res[i] = res[i] + AIJ[j] * vector[JA[j]]\n",
    "        else:\n",
    "            for j in range(int(IA[i]), int(nnz)):\n",
    "                res[i] = res[i] + AIJ[j] * vector[JA[j]] \n",
    "    return(res)"
   ]
  },
  {
   "cell_type": "code",
   "execution_count": 279,
   "metadata": {},
   "outputs": [],
   "source": [
    "IA_D_inv = np.zeros(IA_size)\n",
    "JA_D_inv = []\n",
    "AIJ_D_inv = []\n",
    "IA_L_U = np.zeros(IA_size)\n",
    "IA_L_U[0] = 0\n",
    "JA_L_U = []\n",
    "AIJ_L_U = []\n",
    "nnz_L_U = 0\n",
    "nnz_D_inv = n\n",
    "for i in range(0, IA_size):\n",
    "    t = 0\n",
    "    if(i != IA_size - 1):\n",
    "        for j in range(IA[i], IA[i + 1]):\n",
    "            if(JA[j] == i):\n",
    "                AIJ_D_inv.append(-1 / AIJ[j])\n",
    "                JA_D_inv.append(i) \n",
    "            else:\n",
    "                AIJ_L_U.append(AIJ[j])\n",
    "                JA_L_U.append(JA[j])\n",
    "                nnz_L_U += 1\n",
    "                t += 1\n",
    "        IA_L_U[i + 1] = IA_L_U[i] + t\n",
    "    else:\n",
    "        for j in range(IA[i], nnz):\n",
    "            if(JA[j] == i):\n",
    "                AIJ_D_inv.append(-1 / AIJ[j])\n",
    "                JA_D_inv.append(i) \n",
    "            else:\n",
    "                AIJ_L_U.append(AIJ[j])\n",
    "                JA_L_U.append(JA[j])\n",
    "                nnz_L_U += 1\n",
    "    IA_D_inv[i] = i"
   ]
  },
  {
   "cell_type": "code",
   "execution_count": 280,
   "metadata": {},
   "outputs": [
    {
     "name": "stdout",
     "output_type": "stream",
     "text": [
      "Норма отклонения полученного решения(1, 2, 3):\n",
      "4.567664119640875e+217\n",
      "3.0140547185257745e+219\n",
      "inf\n",
      "Не сошелся\n",
      "Коэффицент наклона:\n",
      "0.507874495872066\n",
      "Норма матрицы, расчитанная из графика:\n",
      "1.24678356996\n"
     ]
    },
    {
     "data": {
      "image/png": "[encoded data removed]",
      "text/plain": [
       "<Figure size 432x288 with 1 Axes>"
      ]
     },
     "metadata": {
      "needs_background": "light"
     },
     "output_type": "display_data"
    }
   ],
   "source": [
    "#Метод Якоби\n",
    "x_Jacobi = []\n",
    "y_Jacobi = []\n",
    "x_1 = np.zeros(n)\n",
    "x_1[1] = 0.1\n",
    "i = 0\n",
    "while (np.linalg.norm(x_1, np.inf) > 0.0000000001 and i < 1000):\n",
    "    x_2 = mult(n, IA_size, nnz_L_U, IA_L_U, JA_L_U, AIJ_L_U, x_1)\n",
    "    x_1 = mult(n, IA_size, nnz_D_inv, IA_D_inv, JA_D_inv, AIJ_D_inv, x_2)\n",
    "    i += 1\n",
    "    x_Jacobi.append(i)\n",
    "    y_Jacobi.append(math.log(np.linalg.norm(x_1, np.inf)))\n",
    "#print(\"Решение:\")\n",
    "#print(x_1)\n",
    "print(\"Норма отклонения полученного решения(1, 2, 3):\")\n",
    "print(np.linalg.norm(x_1, np.inf))\n",
    "print(np.linalg.norm(x_1, 1))\n",
    "print(np.linalg.norm(x_1))\n",
    "if i != 1000:\n",
    "    print(\"Число итериций:\")\n",
    "    print(i)\n",
    "else:\n",
    "    print(\"Не сошелся\")\n",
    "k = np.polyfit(x_Jacobi, y_Jacobi, 1)\n",
    "y_Jacobi_linear = []\n",
    "x_Jacobi_linear = []\n",
    "for item in x_Jacobi:\n",
    "    x_Jacobi_linear.append(item)\n",
    "    y_Jacobi_linear.append(item * k[0] + k[1])\n",
    "print(\"Коэффицент наклона:\")\n",
    "print (k[0])\n",
    "print(\"Норма матрицы, расчитанная из графика:\")\n",
    "print (math.exp(k[0] / -math.log(0.1)))\n",
    "plot = plt.pyplot.scatter(x_Jacobi, y_Jacobi, s = 0.01, c = 'b')\n",
    "plot = plt.pyplot.scatter(x_Jacobi_linear, y_Jacobi_linear, s = 0.01, c = 'r')\n",
    "plt.pyplot.show()"
   ]
  },
  {
   "cell_type": "code",
   "execution_count": 281,
   "metadata": {
    "scrolled": true
   },
   "outputs": [],
   "source": [
    "IA_U = np.zeros(IA_size)\n",
    "JA_U = []\n",
    "AIJ_U = []\n",
    "IA_U[0] = 0\n",
    "IA_L_D_inv = np.zeros(IA_size)\n",
    "JA_L_D_inv = []\n",
    "AIJ_L_D_inv = []\n",
    "IA_L_D_inv[0] = 0\n",
    "nnz_U = 0\n",
    "nnz_L_D_inv = 0\n",
    "for i in range(0, IA_size):\n",
    "    t_U = 0\n",
    "    t = 0\n",
    "    if(i != IA_size - 1):\n",
    "        for j in range(IA[i], IA[i + 1]):\n",
    "            if(JA[j] > i):\n",
    "                AIJ_U.append(AIJ[j])\n",
    "                JA_U.append(JA[j]) \n",
    "                t_U += 1\n",
    "                nnz_U += 1\n",
    "#            elif(JA[j] < i):\n",
    "#                a = 0\n",
    "#                for k in range(JA[j], i):\n",
    "#                    if JA[j] in JA_L_D_inv[int(IA_L_D_inv[k]):int(IA_L_D_inv[k + 1])] and k in JA[IA[i]: IA[i + 1]]:\n",
    "#                        a += AIJ[JA.index(k, IA[i], IA[i + 1])] * AIJ_L_D_inv[JA_L_D_inv.index(JA[j], int(IA_L_D_inv[k]), int(IA_L_D_inv[k + 1]))]\n",
    "#                a /= -AIJ[JA.index(i, IA[i], IA[i + 1])]\n",
    "#                if(a != 0):\n",
    "#                    AIJ_L_D_inv.append(a)\n",
    "#                    JA_L_D_inv.append(JA[j])\n",
    "#                    nnz_L_D_inv += 1\n",
    "#                    t += 1\n",
    "#            else:\n",
    "#                a = 1 / AIJ[JA.index(i, IA[i], IA[i + 1])]\n",
    "#                AIJ_L_D_inv.append(a)\n",
    "#                JA_L_D_inv.append(i)\n",
    "#                nnz_L_D_inv += 1\n",
    "#                t += 1\n",
    "            elif(JA[j] == i):\n",
    "                for Q in range (0, i):\n",
    "                    a = 0\n",
    "                    for k in range(Q, i):\n",
    "                        if Q in JA_L_D_inv[int(IA_L_D_inv[k]):int(IA_L_D_inv[k + 1])] and k in JA[IA[i]: IA[i + 1]]:\n",
    "                            a += AIJ[JA.index(k, IA[i], IA[i + 1])] * AIJ_L_D_inv[JA_L_D_inv.index(Q, int(IA_L_D_inv[k]), int(IA_L_D_inv[k + 1]))]\n",
    "                    a /= -AIJ[JA.index(i, IA[i], IA[i + 1])]\n",
    "                    if(a != 0):\n",
    "                        AIJ_L_D_inv.append(a)\n",
    "                        JA_L_D_inv.append(Q)\n",
    "                        nnz_L_D_inv += 1\n",
    "                        t += 1\n",
    "                a = 1 / AIJ[JA.index(i, IA[i], IA[i + 1])]\n",
    "                AIJ_L_D_inv.append(a)\n",
    "                JA_L_D_inv.append(i)\n",
    "                nnz_L_D_inv += 1\n",
    "                t += 1\n",
    "        IA_U[i + 1] = IA_U[i] + t_U\n",
    "        IA_L_D_inv[i + 1] = IA_L_D_inv[i] + t\n",
    "    else:\n",
    "        for j in range(IA[i], nnz):\n",
    "            if(JA[j] > i):\n",
    "                AIJ_U.append(AIJ[j])\n",
    "                JA_U.append(JA[j]) \n",
    "                t_U += 1\n",
    "                nnz_U += 1\n",
    " #           elif(JA[j] < i):\n",
    " #               a = 0\n",
    " #               for k in range(JA[j], i):\n",
    " #                   if JA[j] in JA_L_D_inv[int(IA_L_D_inv[k]):int(IA_L_D_inv[k + 1])] and k in JA[IA[i]: nnz]:\n",
    " #                       a += AIJ[JA.index(k, IA[i], nnz)] * AIJ_L_D_inv[JA_L_D_inv.index(JA[j], int(IA_L_D_inv[k]), int(IA_L_D_inv[k + 1]))]\n",
    " #               a /= -AIJ[JA.index(i, IA[i], nnz)]\n",
    " #               if(a != 0):\n",
    " #                   AIJ_L_D_inv.append(a)\n",
    " #                   JA_L_D_inv.append(JA[j])\n",
    " #                   nnz_L_D_inv += 1\n",
    " #           else:\n",
    " #               a = 1 / AIJ[JA.index(i, IA[i], nnz)]\n",
    " #               AIJ_L_D_inv.append(a)\n",
    " #               JA_L_D_inv.append(i)\n",
    " #               nnz_L_D_inv += 1\n",
    "            elif(JA[j] == i):\n",
    "                for Q in range (0, i):\n",
    "                    a = 0\n",
    "                    for k in range(Q, i):\n",
    "                        if Q in JA_L_D_inv[int(IA_L_D_inv[k]):int(IA_L_D_inv[k + 1])] and k in JA[IA[i]: nnz]:\n",
    "                            a += AIJ[JA.index(k, IA[i], nnz)] * AIJ_L_D_inv[JA_L_D_inv.index(Q, int(IA_L_D_inv[k]), int(IA_L_D_inv[k + 1]))]\n",
    "                    a /= -AIJ[JA.index(i, IA[i], nnz)]\n",
    "                    if(a != 0):\n",
    "                        AIJ_L_D_inv.append(a)\n",
    "                        JA_L_D_inv.append(Q)\n",
    "                        nnz_L_D_inv += 1\n",
    "                        t += 1\n",
    "                a = 1 / AIJ[JA.index(i, IA[i], nnz)]\n",
    "                AIJ_L_D_inv.append(a)\n",
    "                JA_L_D_inv.append(i)\n",
    "                nnz_L_D_inv += 1\n",
    "                t += 1\n",
    "#print(IA_L_D_inv)\n",
    "#print(JA_L_D_inv)\n",
    "#print(AIJ_L_D_inv)   "
   ]
  },
  {
   "cell_type": "code",
   "execution_count": 282,
   "metadata": {},
   "outputs": [
    {
     "name": "stdout",
     "output_type": "stream",
     "text": [
      "Норма отклонения полученного решения(1, 2, 3):\n",
      "0.00040128315688819916\n",
      "0.005605876155375998\n",
      "0.001158408210293737\n",
      "Не сошелся\n",
      "Коэффицент наклона:\n",
      "-0.00511776379443152\n",
      "Норма матрицы, расчитанная из графика:\n",
      "0.997779851608\n"
     ]
    },
    {
     "data": {
      "image/png": "[encoded data removed]",
      "text/plain": [
       "<Figure size 432x288 with 1 Axes>"
      ]
     },
     "metadata": {
      "needs_background": "light"
     },
     "output_type": "display_data"
    }
   ],
   "source": [
    "#Метод Зейделя\n",
    "x_Zeydel = []\n",
    "y_Zeydel = []\n",
    "x_1 = np.zeros(n)\n",
    "x_1[1] = 45\n",
    "i = 0\n",
    "f = np.zeros(n)\n",
    "nev = np.zeros(n)\n",
    "#f[0] = 6.0015999999999998\n",
    "#f[1] = -4.0\n",
    "#f[2] = 1.0\n",
    "#f[3] = 0.1\n",
    "#f[4] = 0.0\n",
    "f_1 = np.zeros(n)\n",
    "f_1 = mult(n, IA_size, nnz_L_D_inv, IA_L_D_inv, JA_L_D_inv, AIJ_L_D_inv, f)\n",
    "nev = mult(n, IA_size, nnz, IA, JA, AIJ, x_1)\n",
    "nev -= f\n",
    "while (np.linalg.norm(nev, np.inf) > 0.0000000001 and i < 1000):\n",
    "    #print(x_1)\n",
    "    x_2 = mult(n, IA_size, nnz_U, IA_U, JA_U, AIJ_U, x_1)\n",
    "    #print(x_2)\n",
    "    x_1 = -mult(n, IA_size, nnz_L_D_inv, IA_L_D_inv, JA_L_D_inv, AIJ_L_D_inv, x_2)\n",
    "    #print(x_1)\n",
    "    x_1 += f_1\n",
    "    #print(np.linalg.norm(nev, np.inf))\n",
    "    \n",
    "    i += 1\n",
    "    \n",
    "    nev = mult(n, IA_size, nnz, IA, JA, AIJ, x_1)\n",
    "    nev = nev - f\n",
    "    #print(np.linalg.norm(nev, np.inf))\n",
    "    if(np.linalg.norm(nev, np.inf) != 0):\n",
    "        y_Zeydel.append(math.log(np.linalg.norm(nev, np.inf)))\n",
    "        x_Zeydel.append(i)\n",
    "    else:\n",
    "        break\n",
    "#print(\"Решение:\")\n",
    "#print(x_1)\n",
    "print(\"Норма отклонения полученного решения(1, 2, 3):\")\n",
    "print(np.linalg.norm(nev, np.inf))\n",
    "print(np.linalg.norm(nev, 1))\n",
    "print(np.linalg.norm(nev))\n",
    "if i != 1000:\n",
    "    print(\"Число итериций:\")\n",
    "    print(i)\n",
    "else:\n",
    "    print(\"Не сошелся\")\n",
    "#print(x_1)\n",
    "#print(f_1)\n",
    "k = np.polyfit(x_Zeydel, y_Zeydel, 1)\n",
    "y_Zeydel_linear = []\n",
    "x_Zeydel_linear = []\n",
    "for item in x_Zeydel:\n",
    "    x_Zeydel_linear.append(item)\n",
    "    y_Zeydel_linear.append(item * k[0] + k[1])\n",
    "print(\"Коэффицент наклона:\")\n",
    "print (k[0])\n",
    "print(\"Норма матрицы, расчитанная из графика:\")\n",
    "print (math.exp(k[0] / -math.log(0.1)))\n",
    "plot = plt.pyplot.scatter(x_Zeydel, y_Zeydel, s = 0.1, c = 'b')\n",
    "plot = plt.pyplot.scatter(x_Zeydel_linear, y_Zeydel_linear, s = 0.1, c = 'r')\n",
    "plt.pyplot.show()"
   ]
  },
  {
   "cell_type": "code",
   "execution_count": 283,
   "metadata": {
    "scrolled": true
   },
   "outputs": [
    {
     "name": "stdout",
     "output_type": "stream",
     "text": [
      "(4.975800205329855e-10, 15.999921247097584, 0.12500061525619108)\n"
     ]
    }
   ],
   "source": [
    "#Расчет оптимального тау для метода простых итераций\n",
    "A = np.zeros((n, n))\n",
    "for i in range(0, IA_size):\n",
    "    if(i != IA_size - 1):\n",
    "        for j in range(IA[i], IA[i + 1]):\n",
    "            A[JA[j], i] = AIJ[j]\n",
    "    else:\n",
    "        for j in range(IA[i], nnz):\n",
    "            A[JA[j], i] = AIJ[j]\n",
    "Q = np.linalg.eig(A)[0]\n",
    "L_min = min(Q)\n",
    "L_max = max(Q)\n",
    "T_opt = 2 / (L_min + L_max)\n",
    "print(L_min, L_max, T_opt)"
   ]
  },
  {
   "cell_type": "code",
   "execution_count": 284,
   "metadata": {},
   "outputs": [],
   "source": [
    "IA_Simple = IA\n",
    "JA_Simple = JA\n",
    "AIJ_Simple = []\n",
    "nnz_Simple = nnz\n",
    "for i in range(0, IA_size):\n",
    "    t = 0\n",
    "    if(i != IA_size - 1):\n",
    "        for j in range(IA[i], IA[i + 1]):\n",
    "            if(JA[j] == i):\n",
    "                AIJ_Simple.append(1 - T_opt * AIJ[j])\n",
    "            else:\n",
    "                AIJ_Simple.append(- T_opt * AIJ[j])\n",
    "    else:\n",
    "        for j in range(IA[i], nnz):\n",
    "            if(JA[j] == i):\n",
    "                AIJ_Simple.append(1 - T_opt * AIJ[j])\n",
    "            else:\n",
    "                AIJ_Simple.append(- T_opt * AIJ[j])"
   ]
  },
  {
   "cell_type": "code",
   "execution_count": 285,
   "metadata": {
    "scrolled": true
   },
   "outputs": [
    {
     "name": "stdout",
     "output_type": "stream",
     "text": [
      "Норма отклонения полученного решения(1, 2, 3):\n",
      "0.00030262769904350524\n",
      "0.006870421567614712\n",
      "0.0010771202888723783\n",
      "Не сошелся\n",
      "Коэффицент наклона:\n",
      "-0.0002092930119556627\n",
      "Норма матрицы, расчитанная из графика:\n",
      "0.999909109331\n"
     ]
    },
    {
     "data": {
      "image/png": "[encoded data removed]",
      "text/plain": [
       "<Figure size 432x288 with 1 Axes>"
      ]
     },
     "metadata": {
      "needs_background": "light"
     },
     "output_type": "display_data"
    }
   ],
   "source": [
    "#Метод простых итераций\n",
    "x_Simple = []\n",
    "y_Simple = []\n",
    "x_1 = np.zeros(n)\n",
    "x_1[1] = 0.1\n",
    "i = 0\n",
    "while (np.linalg.norm(x_1, np.inf) > 0.0000000001 and i < 10000):\n",
    "    x_2 = mult(n, IA_size, nnz_Simple, IA_Simple, JA_Simple, AIJ_Simple, x_1)\n",
    "    x_1 = x_2\n",
    "    i += 1\n",
    "    x_Simple.append(i)\n",
    "    y_Simple.append(math.log(np.linalg.norm(x_1, np.inf)))\n",
    "#print(\"Решение:\")\n",
    "#print(x_1)\n",
    "print(\"Норма отклонения полученного решения(1, 2, 3):\")\n",
    "print(np.linalg.norm(x_1, np.inf))\n",
    "print(np.linalg.norm(x_1, 1))\n",
    "print(np.linalg.norm(x_1))\n",
    "if i != 10000:\n",
    "    print(\"Число итериций:\")\n",
    "    print(i)\n",
    "else:\n",
    "    print(\"Не сошелся\")\n",
    "k = np.polyfit(x_Simple, y_Simple, 1)\n",
    "y_Simple_linear = []\n",
    "x_Simple_linear = []\n",
    "for item in x_Simple:\n",
    "    x_Simple_linear.append(item)\n",
    "    y_Simple_linear.append(item * k[0] + k[1])\n",
    "print(\"Коэффицент наклона:\")\n",
    "print (k[0])\n",
    "print(\"Норма матрицы, расчитанная из графика:\")\n",
    "print (math.exp(k[0] / -math.log(0.1)))\n",
    "plot = plt.pyplot.scatter(x_Simple, y_Simple, s = 0.01, c = 'b')\n",
    "plot = plt.pyplot.scatter(x_Simple_linear, y_Simple_linear, s = 0.01, c = 'r')\n",
    "plt.pyplot.show()"
   ]
  },
  {
   "cell_type": "code",
   "execution_count": 286,
   "metadata": {},
   "outputs": [
    {
     "name": "stdout",
     "output_type": "stream",
     "text": [
      "Норма отклонения полученного решения(1, 2, 3):\n",
      "2.09357904224214e-06\n",
      "0.0002723434950115495\n",
      "1.8304563032018973e-05\n",
      "Не сошелся\n",
      "Коэффицент наклона:\n",
      "-0.0009604480933651169\n"
     ]
    },
    {
     "data": {
      "image/png": "[encoded data removed]",
      "text/plain": [
       "<Figure size 432x288 with 1 Axes>"
      ]
     },
     "metadata": {
      "needs_background": "light"
     },
     "output_type": "display_data"
    }
   ],
   "source": [
    "# Метод сопряженных градиентов\n",
    "x_Gradient = []\n",
    "y_Gradient = []\n",
    "x_1 = np.zeros(n)\n",
    "x_1[1] = 0.1\n",
    "r_1 = r_2 = mult(n, IA_size, nnz, IA, JA, AIJ, x_1)\n",
    "s = r_1\n",
    "i = 0\n",
    "while (np.linalg.norm(x_1, np.inf) > 0.0000000001 and i < 5000):\n",
    "    t = mult(n, IA_size, nnz, IA, JA, AIJ, s)\n",
    "    a = np.matmul(r_1, r_1) / np.matmul(t, s)\n",
    "    r_2 = r_1 - a * t\n",
    "    x_1 = x_1 - a * s\n",
    "    b = np.matmul(r_2, r_2) / np.matmul(r_1, r_1)\n",
    "    s = r_2 + b * s\n",
    "    r_1 = r_2\n",
    "    i += 1\n",
    "    x_Gradient.append(i)\n",
    "    y_Gradient.append(math.log(np.linalg.norm(x_1, np.inf)))\n",
    "#print(\"Решение:\")\n",
    "#print(x_1)\n",
    "print(\"Норма отклонения полученного решения(1, 2, 3):\")\n",
    "print(np.linalg.norm(x_1, np.inf))\n",
    "print(np.linalg.norm(x_1, 1))\n",
    "print(np.linalg.norm(x_1))\n",
    "if i != 5000:\n",
    "    print(\"Число итериций:\")\n",
    "    print(i)\n",
    "else:\n",
    "    print(\"Не сошелся\")\n",
    "k = np.polyfit(x_Gradient, y_Gradient, 1)\n",
    "y_Gradient_linear = []\n",
    "x_Gradient_linear = []\n",
    "for item in x_Gradient:\n",
    "    x_Gradient_linear.append(item)\n",
    "    y_Gradient_linear.append(item * k[0] + k[1])\n",
    "print(\"Коэффицент наклона:\")\n",
    "print (k[0])\n",
    "plot = plt.pyplot.scatter(x_Gradient, y_Gradient, s = 0.1, c = 'b')\n",
    "plot = plt.pyplot.scatter(x_Gradient_linear, y_Gradient_linear, s = 0.01, c = 'r')\n",
    "plt.pyplot.show()"
   ]
  },
  {
   "cell_type": "code",
   "execution_count": 287,
   "metadata": {},
   "outputs": [
    {
     "data": {
      "image/png": "[encoded data removed]",
      "text/plain": [
       "<Figure size 432x288 with 1 Axes>"
      ]
     },
     "metadata": {
      "needs_background": "light"
     },
     "output_type": "display_data"
    }
   ],
   "source": [
    "plot = plt.pyplot.scatter(x_Jacobi, y_Jacobi, s = 0.01, c = 'r')\n",
    "plot = plt.pyplot.scatter(x_Zeydel, y_Zeydel, s = 0.1, c = 'g')\n",
    "plot = plt.pyplot.scatter(x_Simple, y_Simple, s = 0.01, c = 'b')\n",
    "plot = plt.pyplot.scatter(x_Gradient, y_Gradient, s = 3, c = 'm')\n",
    "plt.pyplot.show()"
   ]
  },
  {
   "cell_type": "code",
   "execution_count": 288,
   "metadata": {
    "scrolled": false
   },
   "outputs": [
    {
     "data": {
      "image/png": "[encoded data removed]",
      "text/plain": [
       "<Figure size 432x288 with 1 Axes>"
      ]
     },
     "metadata": {
      "needs_background": "light"
     },
     "output_type": "display_data"
    }
   ],
   "source": [
    "plot = plt.pyplot.scatter(x_Zeydel, y_Zeydel, s = 0.1, c = 'g')\n",
    "plot = plt.pyplot.scatter(x_Simple, y_Simple, s = 0.01, c = 'b')\n",
    "plot = plt.pyplot.scatter(x_Gradient, y_Gradient, s = 3, c = 'm')\n",
    "plt.pyplot.show()"
   ]
  },
  {
   "cell_type": "markdown",
   "metadata": {},
   "source": [
    "n = 10000"
   ]
  },
  {
   "cell_type": "code",
   "execution_count": 4,
   "metadata": {},
   "outputs": [],
   "source": [
    "IA = []\n",
    "JA = []\n",
    "AIJ = []\n",
    "f = open('matrix5_n10000.mycsr', 'r')\n",
    "for line in f:\n",
    "    line_splited = line.split()\n",
    "    if line_splited[0] == 'n':\n",
    "        n = int(line_splited[2])\n",
    "        nnz = int(line_splited[5])\n",
    "    elif line_splited[0] == 'VECTOR':\n",
    "        if line_splited[1] == 'IA':\n",
    "            IA_size = int(line_splited[3])\n",
    "            array_to_read = 'IA'\n",
    "        elif line_splited[1] == 'JA':\n",
    "            array_to_read = 'JA' \n",
    "        else:\n",
    "            array_to_read = 'AIJ' \n",
    "    else:\n",
    "        if(array_to_read == 'IA'):\n",
    "            for item in line_splited:\n",
    "                IA.append(int(item))\n",
    "        elif(array_to_read == 'JA'):\n",
    "            for item in line_splited:\n",
    "                JA.append(int(item))\n",
    "        else:\n",
    "            for item in line_splited:\n",
    "                AIJ.append(float(item))"
   ]
  },
  {
   "cell_type": "code",
   "execution_count": 5,
   "metadata": {},
   "outputs": [],
   "source": [
    "def mult(n, IA_size, nnz, IA, JA, AIJ, vector):\n",
    "    res = np.zeros(n)\n",
    "    for i in range(0, IA_size):\n",
    "        if(i != IA_size - 1):\n",
    "            for j in range(int(IA[i]), int(IA[i + 1])):\n",
    "                res[i] = res[i] + AIJ[j] * vector[JA[j]]\n",
    "        else:\n",
    "            for j in range(int(IA[i]), int(nnz)):\n",
    "                res[i] = res[i] + AIJ[j] * vector[JA[j]] \n",
    "    return(res)"
   ]
  },
  {
   "cell_type": "code",
   "execution_count": 11,
   "metadata": {},
   "outputs": [],
   "source": [
    "IA_D_inv = np.zeros(IA_size)\n",
    "JA_D_inv = []\n",
    "AIJ_D_inv = []\n",
    "IA_L_U = np.zeros(IA_size)\n",
    "IA_L_U[0] = 0\n",
    "JA_L_U = []\n",
    "AIJ_L_U = []\n",
    "nnz_L_U = 0\n",
    "nnz_D_inv = n\n",
    "for i in range(0, IA_size):\n",
    "    t = 0\n",
    "    if(i != IA_size - 1):\n",
    "        for j in range(IA[i], IA[i + 1]):\n",
    "            if(JA[j] == i):\n",
    "                AIJ_D_inv.append(-1 / AIJ[j])\n",
    "                JA_D_inv.append(i) \n",
    "            else:\n",
    "                AIJ_L_U.append(AIJ[j])\n",
    "                JA_L_U.append(JA[j])\n",
    "                nnz_L_U += 1\n",
    "                t += 1\n",
    "        IA_L_U[i + 1] = IA_L_U[i] + t\n",
    "    else:\n",
    "        for j in range(IA[i], nnz):\n",
    "            if(JA[j] == i):\n",
    "                AIJ_D_inv.append(-1 / AIJ[j])\n",
    "                JA_D_inv.append(i) \n",
    "            else:\n",
    "                AIJ_L_U.append(AIJ[j])\n",
    "                JA_L_U.append(JA[j])\n",
    "                nnz_L_U += 1\n",
    "    IA_D_inv[i] = i"
   ]
  },
  {
   "cell_type": "code",
   "execution_count": 12,
   "metadata": {},
   "outputs": [
    {
     "name": "stdout",
     "output_type": "stream",
     "text": [
      "Норма отклонения полученного решения(1, 2, 3):\n",
      "4.567664120402318e+217\n",
      "3.014054719028227e+219\n",
      "inf\n",
      "Не сошелся\n",
      "Коэффицент наклона:\n",
      "0.5078744958722328\n",
      "Норма матрицы, расчитанная из графика:\n",
      "1.24678356996\n"
     ]
    },
    {
     "data": {
      "image/png": "[encoded data removed]",
      "text/plain": [
       "<Figure size 432x288 with 1 Axes>"
      ]
     },
     "metadata": {
      "needs_background": "light"
     },
     "output_type": "display_data"
    }
   ],
   "source": [
    "#Метод Якоби\n",
    "x_Jacobi = []\n",
    "y_Jacobi = []\n",
    "x_1 = np.zeros(n)\n",
    "x_1[1] = 0.1\n",
    "i = 0\n",
    "while (np.linalg.norm(x_1, np.inf) > 0.0000000001 and i < 1000):\n",
    "    x_2 = mult(n, IA_size, nnz_L_U, IA_L_U, JA_L_U, AIJ_L_U, x_1)\n",
    "    x_1 = mult(n, IA_size, nnz_D_inv, IA_D_inv, JA_D_inv, AIJ_D_inv, x_2)\n",
    "    i += 1\n",
    "    x_Jacobi.append(i)\n",
    "    y_Jacobi.append(math.log(np.linalg.norm(x_1, np.inf)))\n",
    "#print(\"Решение:\")\n",
    "#print(x_1)\n",
    "print(\"Норма отклонения полученного решения(1, 2, 3):\")\n",
    "print(np.linalg.norm(x_1, np.inf))\n",
    "print(np.linalg.norm(x_1, 1))\n",
    "print(np.linalg.norm(x_1))\n",
    "if i != 1000:\n",
    "    print(\"Число итериций:\")\n",
    "    print(i)\n",
    "else:\n",
    "    print(\"Не сошелся\")\n",
    "k = np.polyfit(x_Jacobi, y_Jacobi, 1)\n",
    "y_Jacobi_linear = []\n",
    "x_Jacobi_linear = []\n",
    "for item in x_Jacobi:\n",
    "    x_Jacobi_linear.append(item)\n",
    "    y_Jacobi_linear.append(item * k[0] + k[1])\n",
    "print(\"Коэффицент наклона:\")\n",
    "print (k[0])\n",
    "print(\"Норма матрицы, расчитанная из графика:\")\n",
    "print (math.exp(k[0] / -math.log(0.1)))\n",
    "plot = plt.pyplot.scatter(x_Jacobi, y_Jacobi, s = 0.01, c = 'b')\n",
    "plot = plt.pyplot.scatter(x_Jacobi_linear, y_Jacobi_linear, s = 0.01, c = 'r')\n",
    "plt.pyplot.show()"
   ]
  },
  {
   "cell_type": "code",
   "execution_count": 293,
   "metadata": {},
   "outputs": [
    {
     "ename": "KeyboardInterrupt",
     "evalue": "",
     "output_type": "error",
     "traceback": [
      "\u001b[1;31m---------------------------------------------------------------------------\u001b[0m",
      "\u001b[1;31mKeyboardInterrupt\u001b[0m                         Traceback (most recent call last)",
      "\u001b[1;32m<ipython-input-293-dcc02cb3eb34>\u001b[0m in \u001b[0;36m<module>\u001b[1;34m()\u001b[0m\n\u001b[0;32m     40\u001b[0m                     \u001b[0ma\u001b[0m \u001b[1;33m=\u001b[0m \u001b[1;36m0\u001b[0m\u001b[1;33m\u001b[0m\u001b[0m\n\u001b[0;32m     41\u001b[0m                     \u001b[1;32mfor\u001b[0m \u001b[0mk\u001b[0m \u001b[1;32min\u001b[0m \u001b[0mrange\u001b[0m\u001b[1;33m(\u001b[0m\u001b[0mQ\u001b[0m\u001b[1;33m,\u001b[0m \u001b[0mi\u001b[0m\u001b[1;33m)\u001b[0m\u001b[1;33m:\u001b[0m\u001b[1;33m\u001b[0m\u001b[0m\n\u001b[1;32m---> 42\u001b[1;33m                         \u001b[1;32mif\u001b[0m \u001b[0mQ\u001b[0m \u001b[1;32min\u001b[0m \u001b[0mJA_L_D_inv\u001b[0m\u001b[1;33m[\u001b[0m\u001b[0mint\u001b[0m\u001b[1;33m(\u001b[0m\u001b[0mIA_L_D_inv\u001b[0m\u001b[1;33m[\u001b[0m\u001b[0mk\u001b[0m\u001b[1;33m]\u001b[0m\u001b[1;33m)\u001b[0m\u001b[1;33m:\u001b[0m\u001b[0mint\u001b[0m\u001b[1;33m(\u001b[0m\u001b[0mIA_L_D_inv\u001b[0m\u001b[1;33m[\u001b[0m\u001b[0mk\u001b[0m \u001b[1;33m+\u001b[0m \u001b[1;36m1\u001b[0m\u001b[1;33m]\u001b[0m\u001b[1;33m)\u001b[0m\u001b[1;33m]\u001b[0m \u001b[1;32mand\u001b[0m \u001b[0mk\u001b[0m \u001b[1;32min\u001b[0m \u001b[0mJA\u001b[0m\u001b[1;33m[\u001b[0m\u001b[0mIA\u001b[0m\u001b[1;33m[\u001b[0m\u001b[0mi\u001b[0m\u001b[1;33m]\u001b[0m\u001b[1;33m:\u001b[0m \u001b[0mIA\u001b[0m\u001b[1;33m[\u001b[0m\u001b[0mi\u001b[0m \u001b[1;33m+\u001b[0m \u001b[1;36m1\u001b[0m\u001b[1;33m]\u001b[0m\u001b[1;33m]\u001b[0m\u001b[1;33m:\u001b[0m\u001b[1;33m\u001b[0m\u001b[0m\n\u001b[0m\u001b[0;32m     43\u001b[0m                             \u001b[0ma\u001b[0m \u001b[1;33m+=\u001b[0m \u001b[0mAIJ\u001b[0m\u001b[1;33m[\u001b[0m\u001b[0mJA\u001b[0m\u001b[1;33m.\u001b[0m\u001b[0mindex\u001b[0m\u001b[1;33m(\u001b[0m\u001b[0mk\u001b[0m\u001b[1;33m,\u001b[0m \u001b[0mIA\u001b[0m\u001b[1;33m[\u001b[0m\u001b[0mi\u001b[0m\u001b[1;33m]\u001b[0m\u001b[1;33m,\u001b[0m \u001b[0mIA\u001b[0m\u001b[1;33m[\u001b[0m\u001b[0mi\u001b[0m \u001b[1;33m+\u001b[0m \u001b[1;36m1\u001b[0m\u001b[1;33m]\u001b[0m\u001b[1;33m)\u001b[0m\u001b[1;33m]\u001b[0m \u001b[1;33m*\u001b[0m \u001b[0mAIJ_L_D_inv\u001b[0m\u001b[1;33m[\u001b[0m\u001b[0mJA_L_D_inv\u001b[0m\u001b[1;33m.\u001b[0m\u001b[0mindex\u001b[0m\u001b[1;33m(\u001b[0m\u001b[0mQ\u001b[0m\u001b[1;33m,\u001b[0m \u001b[0mint\u001b[0m\u001b[1;33m(\u001b[0m\u001b[0mIA_L_D_inv\u001b[0m\u001b[1;33m[\u001b[0m\u001b[0mk\u001b[0m\u001b[1;33m]\u001b[0m\u001b[1;33m)\u001b[0m\u001b[1;33m,\u001b[0m \u001b[0mint\u001b[0m\u001b[1;33m(\u001b[0m\u001b[0mIA_L_D_inv\u001b[0m\u001b[1;33m[\u001b[0m\u001b[0mk\u001b[0m \u001b[1;33m+\u001b[0m \u001b[1;36m1\u001b[0m\u001b[1;33m]\u001b[0m\u001b[1;33m)\u001b[0m\u001b[1;33m)\u001b[0m\u001b[1;33m]\u001b[0m\u001b[1;33m\u001b[0m\u001b[0m\n\u001b[0;32m     44\u001b[0m                     \u001b[0ma\u001b[0m \u001b[1;33m/=\u001b[0m \u001b[1;33m-\u001b[0m\u001b[0mAIJ\u001b[0m\u001b[1;33m[\u001b[0m\u001b[0mJA\u001b[0m\u001b[1;33m.\u001b[0m\u001b[0mindex\u001b[0m\u001b[1;33m(\u001b[0m\u001b[0mi\u001b[0m\u001b[1;33m,\u001b[0m \u001b[0mIA\u001b[0m\u001b[1;33m[\u001b[0m\u001b[0mi\u001b[0m\u001b[1;33m]\u001b[0m\u001b[1;33m,\u001b[0m \u001b[0mIA\u001b[0m\u001b[1;33m[\u001b[0m\u001b[0mi\u001b[0m \u001b[1;33m+\u001b[0m \u001b[1;36m1\u001b[0m\u001b[1;33m]\u001b[0m\u001b[1;33m)\u001b[0m\u001b[1;33m]\u001b[0m\u001b[1;33m\u001b[0m\u001b[0m\n",
      "\u001b[1;31mKeyboardInterrupt\u001b[0m: "
     ]
    }
   ],
   "source": [
    "IA_U = np.zeros(IA_size)\n",
    "JA_U = []\n",
    "AIJ_U = []\n",
    "IA_U[0] = 0\n",
    "IA_L_D_inv = np.zeros(IA_size)\n",
    "JA_L_D_inv = []\n",
    "AIJ_L_D_inv = []\n",
    "IA_L_D_inv[0] = 0\n",
    "nnz_U = 0\n",
    "nnz_L_D_inv = 0\n",
    "for i in range(0, IA_size):\n",
    "    t_U = 0\n",
    "    t = 0\n",
    "    if(i != IA_size - 1):\n",
    "        for j in range(IA[i], IA[i + 1]):\n",
    "            if(JA[j] > i):\n",
    "                AIJ_U.append(AIJ[j])\n",
    "                JA_U.append(JA[j]) \n",
    "                t_U += 1\n",
    "                nnz_U += 1\n",
    "#            elif(JA[j] < i):\n",
    "#                a = 0\n",
    "#                for k in range(JA[j], i):\n",
    "#                    if JA[j] in JA_L_D_inv[int(IA_L_D_inv[k]):int(IA_L_D_inv[k + 1])] and k in JA[IA[i]: IA[i + 1]]:\n",
    "#                        a += AIJ[JA.index(k, IA[i], IA[i + 1])] * AIJ_L_D_inv[JA_L_D_inv.index(JA[j], int(IA_L_D_inv[k]), int(IA_L_D_inv[k + 1]))]\n",
    "#                a /= -AIJ[JA.index(i, IA[i], IA[i + 1])]\n",
    "#                if(a != 0):\n",
    "#                    AIJ_L_D_inv.append(a)\n",
    "#                    JA_L_D_inv.append(JA[j])\n",
    "#                    nnz_L_D_inv += 1\n",
    "#                    t += 1\n",
    "#            else:\n",
    "#                a = 1 / AIJ[JA.index(i, IA[i], IA[i + 1])]\n",
    "#                AIJ_L_D_inv.append(a)\n",
    "#                JA_L_D_inv.append(i)\n",
    "#                nnz_L_D_inv += 1\n",
    "#                t += 1\n",
    "            elif(JA[j] == i):\n",
    "                for Q in range (0, i):\n",
    "                    a = 0\n",
    "                    for k in range(Q, i):\n",
    "                        if Q in JA_L_D_inv[int(IA_L_D_inv[k]):int(IA_L_D_inv[k + 1])] and k in JA[IA[i]: IA[i + 1]]:\n",
    "                            a += AIJ[JA.index(k, IA[i], IA[i + 1])] * AIJ_L_D_inv[JA_L_D_inv.index(Q, int(IA_L_D_inv[k]), int(IA_L_D_inv[k + 1]))]\n",
    "                    a /= -AIJ[JA.index(i, IA[i], IA[i + 1])]\n",
    "                    if(a != 0):\n",
    "                        AIJ_L_D_inv.append(a)\n",
    "                        JA_L_D_inv.append(Q)\n",
    "                        nnz_L_D_inv += 1\n",
    "                        t += 1\n",
    "                a = 1 / AIJ[JA.index(i, IA[i], IA[i + 1])]\n",
    "                AIJ_L_D_inv.append(a)\n",
    "                JA_L_D_inv.append(i)\n",
    "                nnz_L_D_inv += 1\n",
    "                t += 1\n",
    "        IA_U[i + 1] = IA_U[i] + t_U\n",
    "        IA_L_D_inv[i + 1] = IA_L_D_inv[i] + t\n",
    "    else:\n",
    "        for j in range(IA[i], nnz):\n",
    "            if(JA[j] > i):\n",
    "                AIJ_U.append(AIJ[j])\n",
    "                JA_U.append(JA[j]) \n",
    "                t_U += 1\n",
    "                nnz_U += 1\n",
    " #           elif(JA[j] < i):\n",
    " #               a = 0\n",
    " #               for k in range(JA[j], i):\n",
    " #                   if JA[j] in JA_L_D_inv[int(IA_L_D_inv[k]):int(IA_L_D_inv[k + 1])] and k in JA[IA[i]: nnz]:\n",
    " #                       a += AIJ[JA.index(k, IA[i], nnz)] * AIJ_L_D_inv[JA_L_D_inv.index(JA[j], int(IA_L_D_inv[k]), int(IA_L_D_inv[k + 1]))]\n",
    " #               a /= -AIJ[JA.index(i, IA[i], nnz)]\n",
    " #               if(a != 0):\n",
    " #                   AIJ_L_D_inv.append(a)\n",
    " #                   JA_L_D_inv.append(JA[j])\n",
    " #                   nnz_L_D_inv += 1\n",
    " #           else:\n",
    " #               a = 1 / AIJ[JA.index(i, IA[i], nnz)]\n",
    " #               AIJ_L_D_inv.append(a)\n",
    " #               JA_L_D_inv.append(i)\n",
    " #               nnz_L_D_inv += 1\n",
    "            elif(JA[j] == i):\n",
    "                for Q in range (0, i):\n",
    "                    a = 0\n",
    "                    for k in range(Q, i):\n",
    "                        if Q in JA_L_D_inv[int(IA_L_D_inv[k]):int(IA_L_D_inv[k + 1])] and k in JA[IA[i]: nnz]:\n",
    "                            a += AIJ[JA.index(k, IA[i], nnz)] * AIJ_L_D_inv[JA_L_D_inv.index(Q, int(IA_L_D_inv[k]), int(IA_L_D_inv[k + 1]))]\n",
    "                    a /= -AIJ[JA.index(i, IA[i], nnz)]\n",
    "                    if(a != 0):\n",
    "                        AIJ_L_D_inv.append(a)\n",
    "                        JA_L_D_inv.append(Q)\n",
    "                        nnz_L_D_inv += 1\n",
    "                        t += 1\n",
    "                a = 1 / AIJ[JA.index(i, IA[i], nnz)]\n",
    "                AIJ_L_D_inv.append(a)\n",
    "                JA_L_D_inv.append(i)\n",
    "                nnz_L_D_inv += 1\n",
    "                t += 1\n",
    "#print(IA_L_D_inv)\n",
    "#print(JA_L_D_inv)\n",
    "#print(AIJ_L_D_inv)   "
   ]
  },
  {
   "cell_type": "code",
   "execution_count": null,
   "metadata": {},
   "outputs": [],
   "source": [
    "#Метод Зейделя\n",
    "x_Zeydel = []\n",
    "y_Zeydel = []\n",
    "x_1 = np.zeros(n)\n",
    "x_1[1] = 45\n",
    "i = 0\n",
    "f = np.zeros(n)\n",
    "nev = np.zeros(n)\n",
    "#f[0] = 6.0015999999999998\n",
    "#f[1] = -4.0\n",
    "#f[2] = 1.0\n",
    "#f[3] = 0.1\n",
    "#f[4] = 0.0\n",
    "f_1 = np.zeros(n)\n",
    "f_1 = mult(n, IA_size, nnz_L_D_inv, IA_L_D_inv, JA_L_D_inv, AIJ_L_D_inv, f)\n",
    "nev = mult(n, IA_size, nnz, IA, JA, AIJ, x_1)\n",
    "nev -= f\n",
    "while (np.linalg.norm(nev, np.inf) > 0.0000000001 and i < 1000):\n",
    "    #print(x_1)\n",
    "    x_2 = mult(n, IA_size, nnz_U, IA_U, JA_U, AIJ_U, x_1)\n",
    "    #print(x_2)\n",
    "    x_1 = -mult(n, IA_size, nnz_L_D_inv, IA_L_D_inv, JA_L_D_inv, AIJ_L_D_inv, x_2)\n",
    "    #print(x_1)\n",
    "    x_1 += f_1\n",
    "    #print(np.linalg.norm(nev, np.inf))\n",
    "    \n",
    "    i += 1\n",
    "    \n",
    "    nev = mult(n, IA_size, nnz, IA, JA, AIJ, x_1)\n",
    "    nev = nev - f\n",
    "    #print(np.linalg.norm(nev, np.inf))\n",
    "    if(np.linalg.norm(nev, np.inf) != 0):\n",
    "        y_Zeydel.append(math.log(np.linalg.norm(nev, np.inf)))\n",
    "        x_Zeydel.append(i)\n",
    "    else:\n",
    "        break\n",
    "#print(\"Решение:\")\n",
    "#print(x_1)\n",
    "print(\"Норма отклонения полученного решения(1, 2, 3):\")\n",
    "print(np.linalg.norm(nev, np.inf))\n",
    "print(np.linalg.norm(nev, 1))\n",
    "print(np.linalg.norm(nev))\n",
    "if i != 1000:\n",
    "    print(\"Число итериций:\")\n",
    "    print(i)\n",
    "else:\n",
    "    print(\"Не сошелся\")\n",
    "#print(x_1)\n",
    "#print(f_1)\n",
    "k = np.polyfit(x_Zeydel, y_Zeydel, 1)\n",
    "y_Zeydel_linear = []\n",
    "x_Zeydel_linear = []\n",
    "for item in x_Zeydel:\n",
    "    x_Zeydel_linear.append(item)\n",
    "    y_Zeydel_linear.append(item * k[0] + k[1])\n",
    "print(\"Коэффицент наклона:\")\n",
    "print (k[0])\n",
    "print(\"Норма матрицы, расчитанная из графика:\")\n",
    "print (math.exp(k[0] / -math.log(0.1)))\n",
    "plot = plt.pyplot.scatter(x_Zeydel, y_Zeydel, s = 0.1, c = 'b')\n",
    "plot = plt.pyplot.scatter(x_Zeydel_linear, y_Zeydel_linear, s = 0.1, c = 'r')\n",
    "plt.pyplot.show()"
   ]
  },
  {
   "cell_type": "code",
   "execution_count": 6,
   "metadata": {
    "scrolled": true
   },
   "outputs": [
    {
     "name": "stdout",
     "output_type": "stream",
     "text": [
      "(5.025478415071579e-14, 15.999999210635773, 0.12500000616690793)\n"
     ]
    }
   ],
   "source": [
    "#Расчет оптимального тау для метода простых итераций\n",
    "A = np.zeros((n, n))\n",
    "for i in range(0, IA_size):\n",
    "    if(i != IA_size - 1):\n",
    "        for j in range(IA[i], IA[i + 1]):\n",
    "            A[JA[j], i] = AIJ[j]\n",
    "    else:\n",
    "        for j in range(IA[i], nnz):\n",
    "            A[JA[j], i] = AIJ[j]\n",
    "Q = np.linalg.eig(A)[0]\n",
    "L_min = min(Q)\n",
    "L_max = max(Q)\n",
    "T_opt = 2 / (L_min + L_max)\n",
    "print(L_min, L_max, T_opt)"
   ]
  },
  {
   "cell_type": "code",
   "execution_count": 7,
   "metadata": {},
   "outputs": [],
   "source": [
    "IA_Simple = IA\n",
    "JA_Simple = JA\n",
    "AIJ_Simple = []\n",
    "nnz_Simple = nnz\n",
    "for i in range(0, IA_size):\n",
    "    t = 0\n",
    "    if(i != IA_size - 1):\n",
    "        for j in range(IA[i], IA[i + 1]):\n",
    "            if(JA[j] == i):\n",
    "                AIJ_Simple.append(1 - T_opt * AIJ[j])\n",
    "            else:\n",
    "                AIJ_Simple.append(- T_opt * AIJ[j])\n",
    "    else:\n",
    "        for j in range(IA[i], nnz):\n",
    "            if(JA[j] == i):\n",
    "                AIJ_Simple.append(1 - T_opt * AIJ[j])\n",
    "            else:\n",
    "                AIJ_Simple.append(- T_opt * AIJ[j])"
   ]
  },
  {
   "cell_type": "code",
   "execution_count": 8,
   "metadata": {
    "scrolled": true
   },
   "outputs": [
    {
     "name": "stdout",
     "output_type": "stream",
     "text": [
      "Норма отклонения полученного решения(1, 2, 3):\n",
      "0.0003025416486317884\n",
      "0.006756862823103814\n",
      "0.0010766652680228891\n",
      "Не сошелся\n",
      "Коэффицент наклона:\n",
      "-0.000209306562317044\n",
      "Норма матрицы, расчитанная из графика:\n",
      "0.999909103446\n"
     ]
    },
    {
     "data": {
      "image/png": "[encoded data removed]",
      "text/plain": [
       "<Figure size 432x288 with 1 Axes>"
      ]
     },
     "metadata": {
      "needs_background": "light"
     },
     "output_type": "display_data"
    }
   ],
   "source": [
    "#Метод простых итераций\n",
    "x_Simple = []\n",
    "y_Simple = []\n",
    "x_1 = np.zeros(n)\n",
    "x_1[1] = 0.1\n",
    "i = 0\n",
    "while (np.linalg.norm(x_1, np.inf) > 0.0000000001 and i < 10000):\n",
    "    x_2 = mult(n, IA_size, nnz_Simple, IA_Simple, JA_Simple, AIJ_Simple, x_1)\n",
    "    x_1 = x_2\n",
    "    i += 1\n",
    "    x_Simple.append(i)\n",
    "    y_Simple.append(math.log(np.linalg.norm(x_1, np.inf)))\n",
    "#print(\"Решение:\")\n",
    "#print(x_1)\n",
    "print(\"Норма отклонения полученного решения(1, 2, 3):\")\n",
    "print(np.linalg.norm(x_1, np.inf))\n",
    "print(np.linalg.norm(x_1, 1))\n",
    "print(np.linalg.norm(x_1))\n",
    "if i != 10000:\n",
    "    print(\"Число итериций:\")\n",
    "    print(i)\n",
    "else:\n",
    "    print(\"Не сошелся\")\n",
    "k = np.polyfit(x_Simple, y_Simple, 1)\n",
    "y_Simple_linear = []\n",
    "x_Simple_linear = []\n",
    "for item in x_Simple:\n",
    "    x_Simple_linear.append(item)\n",
    "    y_Simple_linear.append(item * k[0] + k[1])\n",
    "print(\"Коэффицент наклона:\")\n",
    "print (k[0])\n",
    "print(\"Норма матрицы, расчитанная из графика:\")\n",
    "print (math.exp(k[0] / -math.log(0.1)))\n",
    "plot = plt.pyplot.scatter(x_Simple, y_Simple, s = 0.01, c = 'b')\n",
    "plot = plt.pyplot.scatter(x_Simple_linear, y_Simple_linear, s = 0.01, c = 'r')\n",
    "plt.pyplot.show()"
   ]
  },
  {
   "cell_type": "code",
   "execution_count": 9,
   "metadata": {},
   "outputs": [
    {
     "name": "stdout",
     "output_type": "stream",
     "text": [
      "Норма отклонения полученного решения(1, 2, 3):\n",
      "3.2337563495820592e-06\n",
      "0.0003630025903065913\n",
      "2.6278348597237863e-05\n",
      "Не сошелся\n",
      "Коэффицент наклона:\n",
      "-0.000866909913439019\n"
     ]
    },
    {
     "data": {
      "image/png": "[encoded data removed]",
      "text/plain": [
       "<Figure size 432x288 with 1 Axes>"
      ]
     },
     "metadata": {
      "needs_background": "light"
     },
     "output_type": "display_data"
    }
   ],
   "source": [
    "# Метод сопряженных градиентов\n",
    "x_Gradient = []\n",
    "y_Gradient = []\n",
    "x_1 = np.zeros(n)\n",
    "x_1[1] = 0.1\n",
    "r_1 = r_2 = mult(n, IA_size, nnz, IA, JA, AIJ, x_1)\n",
    "s = r_1\n",
    "i = 0\n",
    "while (np.linalg.norm(x_1, np.inf) > 0.0000000001 and i < 5000):\n",
    "    t = mult(n, IA_size, nnz, IA, JA, AIJ, s)\n",
    "    a = np.matmul(r_1, r_1) / np.matmul(t, s)\n",
    "    r_2 = r_1 - a * t\n",
    "    x_1 = x_1 - a * s\n",
    "    b = np.matmul(r_2, r_2) / np.matmul(r_1, r_1)\n",
    "    s = r_2 + b * s\n",
    "    r_1 = r_2\n",
    "    i += 1\n",
    "    x_Gradient.append(i)\n",
    "    y_Gradient.append(math.log(np.linalg.norm(x_1, np.inf)))\n",
    "#print(\"Решение:\")\n",
    "#print(x_1)\n",
    "print(\"Норма отклонения полученного решения(1, 2, 3):\")\n",
    "print(np.linalg.norm(x_1, np.inf))\n",
    "print(np.linalg.norm(x_1, 1))\n",
    "print(np.linalg.norm(x_1))\n",
    "if i != 5000:\n",
    "    print(\"Число итериций:\")\n",
    "    print(i)\n",
    "else:\n",
    "    print(\"Не сошелся\")\n",
    "k = np.polyfit(x_Gradient, y_Gradient, 1)\n",
    "y_Gradient_linear = []\n",
    "x_Gradient_linear = []\n",
    "for item in x_Gradient:\n",
    "    x_Gradient_linear.append(item)\n",
    "    y_Gradient_linear.append(item * k[0] + k[1])\n",
    "print(\"Коэффицент наклона:\")\n",
    "print (k[0])\n",
    "plot = plt.pyplot.scatter(x_Gradient, y_Gradient, s = 0.1, c = 'b')\n",
    "plot = plt.pyplot.scatter(x_Gradient_linear, y_Gradient_linear, s = 0.01, c = 'r')\n",
    "plt.pyplot.show()"
   ]
  },
  {
   "cell_type": "code",
   "execution_count": 14,
   "metadata": {},
   "outputs": [
    {
     "data": {
      "image/png": "[encoded data removed]",
      "text/plain": [
       "<Figure size 432x288 with 1 Axes>"
      ]
     },
     "metadata": {
      "needs_background": "light"
     },
     "output_type": "display_data"
    }
   ],
   "source": [
    "plot = plt.pyplot.scatter(x_Jacobi, y_Jacobi, s = 0.01, c = 'r')\n",
    "#plot = plt.pyplot.scatter(x_Zeydel, y_Zeydel, s = 0.1, c = 'g')\n",
    "plot = plt.pyplot.scatter(x_Simple, y_Simple, s = 0.01, c = 'b')\n",
    "plot = plt.pyplot.scatter(x_Gradient, y_Gradient, s = 3, c = 'm')\n",
    "plt.pyplot.show()"
   ]
  },
  {
   "cell_type": "code",
   "execution_count": 15,
   "metadata": {
    "scrolled": true
   },
   "outputs": [
    {
     "data": {
      "image/png": "[encoded data removed]",
      "text/plain": [
       "<Figure size 432x288 with 1 Axes>"
      ]
     },
     "metadata": {
      "needs_background": "light"
     },
     "output_type": "display_data"
    }
   ],
   "source": [
    "#plot = plt.pyplot.scatter(x_Zeydel, y_Zeydel, s = 0.1, c = 'g')\n",
    "plot = plt.pyplot.scatter(x_Simple, y_Simple, s = 0.01, c = 'b')\n",
    "plot = plt.pyplot.scatter(x_Gradient, y_Gradient, s = 3, c = 'm')\n",
    "plt.pyplot.show()"
   ]
  }
 ],
 "metadata": {
  "kernelspec": {
   "display_name": "Python 2",
   "language": "python",
   "name": "python2"
  },
  "language_info": {
   "codemirror_mode": {
    "name": "ipython",
    "version": 2
   },
   "file_extension": ".py",
   "mimetype": "text/x-python",
   "name": "python",
   "nbconvert_exporter": "python",
   "pygments_lexer": "ipython2",
   "version": "2.7.16"
  }
 },
 "nbformat": 4,
 "nbformat_minor": 2
}
