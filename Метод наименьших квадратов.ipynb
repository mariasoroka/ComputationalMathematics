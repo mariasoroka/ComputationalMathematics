{
 "cells": [
  {
   "cell_type": "code",
   "execution_count": 76,
   "metadata": {},
   "outputs": [],
   "source": [
    "import numpy as np\n",
    "import matplotlib as plt\n",
    "import math\n",
    "import matplotlib.pyplot"
   ]
  },
  {
   "cell_type": "code",
   "execution_count": 77,
   "metadata": {
    "scrolled": true
   },
   "outputs": [
    {
     "data": {
      "image/png": "[encoded data removed]",
      "text/plain": [
       "<Figure size 432x288 with 1 Axes>"
      ]
     },
     "metadata": {
      "needs_background": "light"
     },
     "output_type": "display_data"
    },
    {
     "name": "stdout",
     "output_type": "stream",
     "text": [
      "Коэффиценты прямой:\n",
      "(0.8069979219757194, 0.26131583812416764)\n",
      "Невязка:\n",
      "0.269205699507\n"
     ]
    }
   ],
   "source": [
    "#Приближение линейной функцией функции корень из х\n",
    "n = 100\n",
    "sum_x = 0.0\n",
    "sum_y = 0.0\n",
    "sum_xy = 0.0\n",
    "sum_xx = 0.0\n",
    "r = 0.0\n",
    "sqrt_x = []\n",
    "sqrt_y = []\n",
    "lin_x = []\n",
    "lin_y = []\n",
    "for i in range(0, n + 1):\n",
    "    sum_x += float(i) / n\n",
    "    sum_y += math.sqrt(float(i) / n)\n",
    "    sum_xy += i * math.sqrt(float(i) / n) / n\n",
    "    sum_xx += float(i * i) / (n * n)\n",
    "    sqrt_x.append(float(i) / n)\n",
    "    lin_x.append(float(i) / n)\n",
    "    sqrt_y.append(math.sqrt(float(i) / n))\n",
    "a = ((n + 1) * sum_xy - sum_x * sum_y) / ((n + 1) * sum_xx - sum_x * sum_x)\n",
    "b = (sum_y - a * sum_x)/ (n + 1)\n",
    "for i in range(0, n + 1):\n",
    "    lin_y.append(a * float(i) / n + b)\n",
    "    r += (a * float(i) / n + b - math.sqrt(float(i) / n))**2\n",
    "plot = plt.pyplot.scatter(sqrt_x, sqrt_y, s = 0.5, c = 'b')\n",
    "plot = plt.pyplot.scatter(lin_x, lin_y, s = 0.5, c = 'r')\n",
    "plt.pyplot.show()\n",
    "print(\"Коэффиценты прямой:\")\n",
    "print(a, b)\n",
    "print(\"Невязка:\")\n",
    "print(abs(r))"
   ]
  },
  {
   "cell_type": "code",
   "execution_count": 78,
   "metadata": {},
   "outputs": [],
   "source": [
    "def gradient(a, b , c, n, sqrt_x, sqrt_y):\n",
    "    grad = np.zeros(3)\n",
    "    for i in range(0, n + 1):\n",
    "        grad[0] += (a * math.exp(b * sqrt_x[i]) + c - sqrt_y[i]) * 2 * math.exp(b * sqrt_x[i])\n",
    "        grad[1] += (a * math.exp(b * sqrt_x[i]) + c - sqrt_y[i]) * 2 * a * math.exp(b * sqrt_x[i]) * sqrt_x[i]\n",
    "        grad[2] += (a * math.exp(b * sqrt_x[i]) + c - sqrt_y[i]) * 2\n",
    "    return grad"
   ]
  },
  {
   "cell_type": "code",
   "execution_count": 79,
   "metadata": {},
   "outputs": [
    {
     "data": {
      "image/png": "[encoded data removed]",
      "text/plain": [
       "<Figure size 432x288 with 1 Axes>"
      ]
     },
     "metadata": {
      "needs_background": "light"
     },
     "output_type": "display_data"
    },
    {
     "name": "stdout",
     "output_type": "stream",
     "text": [
      "Коэффиценты:\n",
      "(-1.1842050261657995, -1.2159036243882906, 1.3509525633939563)\n",
      "Невязка:\n",
      "0.05416962333474033\n"
     ]
    }
   ],
   "source": [
    "#Приближение функцией aexp(bx) + c функции корень из х\n",
    "a = 1.0\n",
    "b = 1.0\n",
    "c = 1.0\n",
    "r = 0.0\n",
    "t = 0.002\n",
    "r_x = []\n",
    "r_y = []\n",
    "j = 0\n",
    "for i in range(0, n + 1):\n",
    "    r += a * math.exp(b * sqrt_x[i]) + c - sqrt_y[i]\n",
    "while (r > 0.00000001 and j < 600):\n",
    "    j += 1\n",
    "    grad = gradient(a, b, c, n, sqrt_x, sqrt_y)\n",
    "    a = a - t * grad[0]\n",
    "    b = b - t * grad[1]\n",
    "    c = c - t * grad[2]\n",
    "    r = 0.0\n",
    "    for i in range(0, n + 1):\n",
    "        r += (a * math.exp(b * sqrt_x[i]) + c - sqrt_y[i])**2\n",
    "    r_x.append(j)\n",
    "    r_y.append(math.log(r))\n",
    "plot = plt.pyplot.scatter(r_x, r_y, s = 0.5, c = 'r')\n",
    "plt.pyplot.show()\n",
    "print(\"Коэффиценты:\")\n",
    "print(a, b, c)\n",
    "print(\"Невязка:\")\n",
    "print(r)"
   ]
  },
  {
   "cell_type": "code",
   "execution_count": 80,
   "metadata": {},
   "outputs": [
    {
     "data": {
      "image/png": "[encoded data removed]",
      "text/plain": [
       "<Figure size 432x288 with 1 Axes>"
      ]
     },
     "metadata": {
      "needs_background": "light"
     },
     "output_type": "display_data"
    }
   ],
   "source": [
    "exp_x = []\n",
    "exp_y = []\n",
    "for i in range(0, n + 1):\n",
    "    exp_y.append(a * math.exp(b * sqrt_x[i]) + c)\n",
    "    exp_x.append(sqrt_x[i])\n",
    "plot = plt.pyplot.scatter(sqrt_x, sqrt_y, s = 0.5, c = 'b')\n",
    "plot = plt.pyplot.scatter(exp_x, exp_y, s = 0.5, c = 'r')\n",
    "plt.pyplot.show()"
   ]
  }
 ],
 "metadata": {
  "kernelspec": {
   "display_name": "Python 2",
   "language": "python",
   "name": "python2"
  },
  "language_info": {
   "codemirror_mode": {
    "name": "ipython",
    "version": 2
   },
   "file_extension": ".py",
   "mimetype": "text/x-python",
   "name": "python",
   "nbconvert_exporter": "python",
   "pygments_lexer": "ipython2",
   "version": "2.7.16"
  }
 },
 "nbformat": 4,
 "nbformat_minor": 2
}
