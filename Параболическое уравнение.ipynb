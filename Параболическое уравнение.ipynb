{
 "cells": [
  {
   "cell_type": "markdown",
   "metadata": {},
   "source": [
    "$$\\begin{equation}\n",
    "    \\begin{cases}\n",
    "        u_t = u_{xx} + \\frac{4x}{x^2 + 2t + 1}u_x, \\: 0 \\leq x \\leq 1,\\: 0 < t\\\\\n",
    "        u(0, t) = \\frac{1}{2t + 1}\\\\\n",
    "        u(1, t) = \\frac{1}{2t + 2}\\\\\n",
    "        u(x, 0) = \\frac{1}{x^2 + 1}\n",
    "    \\end{cases}\n",
    "\\end{equation}$$\n",
    "Методом пристального взгляда выясняем, что точное решение $u(x, t) = \\frac{1}{x^2 + 2t + 1}$"
   ]
  },
  {
   "cell_type": "markdown",
   "metadata": {},
   "source": [
    "Составим явную разностную схему:\n",
    "$$\n",
    "\\begin{equation}\n",
    "    \\begin{cases}\n",
    "        \\frac{y_m^{n + 1} - y_m^n}{\\tau} = \\frac{y_{m - 1}^{n} - 2y_m^n + y_{m + 1}^{n}}{h^2} + \\frac{4x}{x^2 + 2t + 1} \\frac{y_{m + 1}^{n} - y_{m - 1}^{n}}{2h}\\\\\n",
    "        y_m^0 = \\frac{1}{(mh)^2 + 1}\\\\\n",
    "        y_0^n = \\frac{1}{2n\\tau + 1}\\\\\n",
    "        y_M^n = \\frac{1}{2(n \\tau + 1)}\n",
    "    \\end{cases}\n",
    "\\end{equation}\n",
    "$$ \n",
    "Она обладает первым порядком аппроксимации по времени и вторым по пространству.\n",
    "\n",
    "Чтобы она была устойчивой должно выполняться, что $\\frac{\\tau}{h^2} < 0.5$"
   ]
  },
  {
   "cell_type": "code",
   "execution_count": 97,
   "metadata": {},
   "outputs": [],
   "source": [
    "import numpy as np\n",
    "import matplotlib as plt\n",
    "import math\n",
    "import matplotlib.pyplot"
   ]
  },
  {
   "cell_type": "code",
   "execution_count": 98,
   "metadata": {},
   "outputs": [],
   "source": [
    "num_nodes = 100\n",
    "T = 0.1\n",
    "h = 1.0 / num_nodes\n",
    "M = num_nodes + 1\n",
    "t = 0.3 * h * h\n",
    "N = int(T / t) + 1\n",
    "y_curr = np.zeros((M), dtype = float) \n",
    "y_prev = np.zeros((M), dtype = float)\n",
    "x = [i * h for i in range(0, M)]\n",
    "for i in range(0, M):\n",
    "    y_prev[i] = 1.0 / (x[i]**2 + 1)\n",
    "for n in range(1, N):\n",
    "    y_curr[0] = 1.0 / (2 * n * t + 1)\n",
    "    for m in range(1, M - 1):\n",
    "        y_curr[m] = y_prev[m] + t / h**2 * (y_prev[m - 1] - 2 * y_prev[m] + y_prev[m + 1]) + (2 * t * m) / (x[m]**2 + 2 * n * t + 1) * (y_prev[m + 1] - y_prev[m - 1])\n",
    "    y_curr[M - 1] = 1.0 / (2 * n * t + 2)\n",
    "    for m in range(0, M):\n",
    "        y_prev[m] = y_curr[m]\n"
   ]
  },
  {
   "cell_type": "code",
   "execution_count": 99,
   "metadata": {},
   "outputs": [
    {
     "name": "stdout",
     "output_type": "stream",
     "text": [
      "1.4567803957921122e-05\n"
     ]
    },
    {
     "data": {
      "image/png": "[encoded data removed]",
      "text/plain": [
       "<Figure size 432x288 with 1 Axes>"
      ]
     },
     "metadata": {
      "needs_background": "light"
     },
     "output_type": "display_data"
    }
   ],
   "source": [
    "y_exact = [1.0 / (x[i]**2 + 2 * T + 1) for i in range(0, M)]\n",
    "err = max(abs(y_exact - y_curr))\n",
    "print(err)\n",
    "plt.pyplot.plot(x, y_curr, c = 'b', linewidth = 0.5)\n",
    "plt.pyplot.plot(x, y_exact, c = 'r', linewidth = 0.5)\n",
    "plt.pyplot.show()"
   ]
  },
  {
   "cell_type": "markdown",
   "metadata": {},
   "source": [
    "Реализуем схему Кранка-Николсон:\n",
    "$$\n",
    "\\begin{equation}\n",
    "    \\begin{cases}\n",
    "        \\frac{y_m^{n + 1} - y_m^n}{\\tau} = \\frac{1}{2}(\\frac{y_{m - 1}^{n + 1} - 2y_m^{n + 1} + y_{m + 1}^{n+ 1}}{h^2} + \\frac{y_{m - 1}^{n} - 2y_m^n + y_{m + 1}^{n}}{h^2}) + \\frac{4x}{x^2 + 2t + 1} \\frac{y_{m + 1}^{n} - y_{m - 1}^{n}}{2h}\\\\\n",
    "        y_m^0 = \\frac{1}{(mh)^2 + 1}\\\\\n",
    "        y_0^n = \\frac{1}{2n\\tau + 1}\\\\\n",
    "        y_M^n = \\frac{1}{2(n \\tau + 1)}\n",
    "    \\end{cases}\n",
    "\\end{equation}\n",
    "$$ \n",
    "\n",
    "Перепишем первое уравнение системы:\n",
    "$$y_m^{n + 1} (\\frac{1}{\\tau} + \\frac{1}{h^2}) + y_{m - 1}^{n + 1} (-\\frac{1}{2h^2}) + y_{m + 1}^{n + 1} (-\\frac{1}{2h^2}) = \\frac{1}{2}(\\frac{y_{m - 1}^{n} - 2y_m^n + y_{m + 1}^{n}}{h^2}) + \\frac{4x}{x^2 + 2t + 1} \\frac{y_{m + 1}^{n} - y_{m - 1}^{n}}{2h} + y_m^{n}\\frac{1}{\\tau}$$\n",
    "\n",
    "Получили на каждом временном слое трехдиагональную систему с диагональным преобладанием."
   ]
  },
  {
   "cell_type": "code",
   "execution_count": 100,
   "metadata": {},
   "outputs": [],
   "source": [
    "num_nodes = 1000 #больше точек\n",
    "T = 0.1 \n",
    "h = 1.0 / num_nodes\n",
    "M = num_nodes + 1\n",
    "t = h\n",
    "N = int(T / t) + 1\n",
    "y_curr = np.zeros((M), dtype = float) \n",
    "y_prev = np.zeros((M), dtype = float)\n",
    "x = [i * h for i in range(0, M)]\n",
    "for i in range(0, M):\n",
    "    y_prev[i] = 1.0 / (x[i]**2 + 1)\n",
    "for n in range(1, N):\n",
    "    A = []\n",
    "    B = []\n",
    "    C = []\n",
    "    F = []\n",
    "    A.append(0.0)\n",
    "    B.append(0.0)\n",
    "    C.append(1.0)\n",
    "    F.append(1.0 / (2 * n * t + 1))\n",
    "    for i in range(1, M - 1):\n",
    "        A.append(- 1.0 / (2 * h * h))\n",
    "        C.append(1.0 / t + 1.0 / (h * h))\n",
    "        B.append(- 1.0 / (2 * h * h))\n",
    "        F.append((1.0 / (2 * h**2)) * (y_prev[i - 1] - 2 * y_prev[i] + y_prev[i + 1]) + ((4 * x[i]) / (x[i]**2 + 2 * n * t + 1) * (y_prev[i + 1] - y_prev[i - 1])) / (2 * h) + y_prev[i] / t)\n",
    "    A.append(0.0)\n",
    "    C.append(1.0)\n",
    "    B.append(0.0)\n",
    "    F.append(1.0 / (2 * n * t + 2))\n",
    "    alfa = np.zeros(M, dtype = float)\n",
    "    beta = np.zeros(M, dtype = float)\n",
    "    alfa[1] = -B[0] / C[0]\n",
    "    beta[1] = F[0] / C[0]\n",
    "    for i in range(2, M):\n",
    "        alfa[i] = -B[i - 1] / (A[i - 1] * alfa[i - 1] + C[i - 1])\n",
    "        beta[i] = (F[i - 1] - A[i - 1] * beta[i - 1]) / (A[i - 1] * alfa[i - 1] + C[i - 1])\n",
    "    y_curr[M - 1] = (F[M - 1] - A[M - 1] * beta[M - 1]) / (C[M - 1] + A[M - 1] * alfa[M - 1])\n",
    "    for i in range(M - 2, -1, -1):\n",
    "        y_curr[i] = alfa[i + 1] * y_curr[i + 1] + beta[i + 1]\n",
    "    for m in range(0, M):\n",
    "        y_prev[m] = y_curr[m]\n"
   ]
  },
  {
   "cell_type": "code",
   "execution_count": 101,
   "metadata": {
    "scrolled": true
   },
   "outputs": [
    {
     "name": "stdout",
     "output_type": "stream",
     "text": [
      "3.7430056610721074e-05\n"
     ]
    },
    {
     "data": {
      "image/png": "[encoded data removed]",
      "text/plain": [
       "<Figure size 432x288 with 1 Axes>"
      ]
     },
     "metadata": {
      "needs_background": "light"
     },
     "output_type": "display_data"
    }
   ],
   "source": [
    "y_exact = [1.0 / (x[i]**2 + 2 * T + 1) for i in range(0, M)]\n",
    "err = max(abs(y_exact - y_curr))\n",
    "print(err)\n",
    "plt.pyplot.plot(x, y_curr, c = 'b', linewidth = 0.5)\n",
    "plt.pyplot.plot(x, y_exact, c = 'r', linewidth = 0.5)\n",
    "plt.pyplot.show()"
   ]
  },
  {
   "cell_type": "markdown",
   "metadata": {},
   "source": [
    "$$y'_t = f(t, y)\\\\\n",
    "f_m(t, y) = \\frac{y_{m - 1}^{n} - 2y_m^n + y_{m + 1}^{n}}{h^2} + \\frac{4mh}{(mh)^2 + 2t + 1} \\frac{y_{m + 1}^{n} - y_{m - 1}^{n}}{2h}, \\: 1 \\leq m < M\\\\\n",
    "f_0(t, y) = \\frac{1}{2t + 1}\\\\\n",
    "f_M(t, y) = \\frac{1}{2(t + 1)}\\\\$$\n",
    "Используем метод с таблицей Бутчера:\n",
    "$$\\begin{pmatrix}\n",
    "  \\frac{1}{3}& \\frac{1}{3}& & &\\\\\n",
    "  1& \\frac{1}{3}& \\frac{2}{3}& &\\\\\n",
    "  1& 0& 0& 1& \\\\\n",
    "  & \\frac{3}{4}& \\frac{3}{4}& -\\frac{1}{2}&\n",
    "\\end{pmatrix}$$"
   ]
  },
  {
   "cell_type": "markdown",
   "metadata": {},
   "source": [
    "$\\bar k_1 = \\bar f(n\\tau + \\frac{1}{3} \\tau, \\bar y^n + \\frac{1}{3} \\tau \\bar k_1)$\n",
    "\n",
    "Получим трехдиагональную систему."
   ]
  },
  {
   "cell_type": "markdown",
   "metadata": {},
   "source": [
    "$\\bar k_2 = \\bar f(n\\tau +  \\tau, \\bar y^n + \\frac{1}{3} \\tau \\bar k_1 + \\frac{2}{3} \\tau \\bar k_2)$\n",
    "\n",
    "$\\bar k_3 = \\bar f(n\\tau +  \\tau, \\bar y^n + \\tau \\bar k_3)$"
   ]
  },
  {
   "cell_type": "code",
   "execution_count": 102,
   "metadata": {},
   "outputs": [],
   "source": [
    "#решение уравнения типа k = f(time, z + coef * t * k)\n",
    "def threediagonal_solver(time, z, coef, t, M, h):\n",
    "    k = np.zeros(M, dtype = float)\n",
    "    A = []\n",
    "    B = []\n",
    "    C = []\n",
    "    F = []\n",
    "    A.append(0.0)\n",
    "    B.append(0.0)\n",
    "    C.append(1.0)\n",
    "    F.append(1.0 / (2 * time + 1))\n",
    "    for i in range(1, M - 1):\n",
    "        A.append(coef * t * (-1.0 / h**2 + 4 * i * h / ((i * h)**2 + 2 * time + 1)))\n",
    "        C.append(1.0 + 2 * coef * t / h**2)\n",
    "        B.append(coef * t * (-1.0 / h**2 - 4 * i * h / ((i * h)**2 + 2 * time + 1)))\n",
    "        F.append((1.0 / (h**2)) * (z[i - 1] - 2 * z[i] + z[i + 1]) + ((4 * i * h) / ((i * h)**2 + 2 * time + 1) * (z[i + 1] - z[i - 1])) / (2 * h))\n",
    "    A.append(0.0)\n",
    "    C.append(1.0)\n",
    "    B.append(0.0)\n",
    "    F.append(1.0 / (2 * time + 2))\n",
    "    alfa = np.zeros(M, dtype = float)\n",
    "    beta = np.zeros(M, dtype = float)\n",
    "    alfa[1] = -B[0] / C[0]\n",
    "    beta[1] = F[0] / C[0]\n",
    "    for i in range(2, M):\n",
    "        alfa[i] = -B[i - 1] / (A[i - 1] * alfa[i - 1] + C[i - 1])\n",
    "        beta[i] = (F[i - 1] - A[i - 1] * beta[i - 1]) / (A[i - 1] * alfa[i - 1] + C[i - 1])\n",
    "    k[M - 1] = (F[M - 1] - A[M - 1] * beta[M - 1]) / (C[M - 1] + A[M - 1] * alfa[M - 1])\n",
    "    for i in range(M - 2, -1, -1):\n",
    "        k[i] = alfa[i + 1] * k[i + 1] + beta[i + 1]\n",
    "    return k"
   ]
  },
  {
   "cell_type": "code",
   "execution_count": 103,
   "metadata": {},
   "outputs": [],
   "source": [
    "num_nodes = 100\n",
    "T = 0.1 \n",
    "h = 1.0 / num_nodes\n",
    "M = num_nodes + 1\n",
    "t = 0.0001#приходиться брать малнькое время\n",
    "N = int(T / t) + 1\n",
    "y_curr = np.zeros((M), dtype = float) \n",
    "y_prev = np.zeros((M), dtype = float)\n",
    "x = [i * h for i in range(0, M)]\n",
    "for i in range(0, M):\n",
    "    y_prev[i] = 1.0 / (x[i]**2 + 1)\n",
    "for n in range(1, N):\n",
    "    k_1 = threediagonal_solver(n * t + t / 3, y_prev, 1.0 / 3, t, M, h)\n",
    "    k_2 = threediagonal_solver(n * t + t, y_prev + 1.0 / 3 * t * k_1, 2.0 / 3, t, M, h)\n",
    "    k_3 = threediagonal_solver(n * t + t, y_prev, 1.0, t, M, h)\n",
    "    y_curr = y_prev + t * (3.0 / 4 * k_1 + 3.0 / 4 * k_2 - 1.0 / 2 * k_3)\n",
    "    y_curr[0] = 1.0 / (2 * n * t + 1)#без этих строчек разъезжались значения на концах\n",
    "    y_curr[M - 1] = 1.0 / (2 * n * t + 2)#\n",
    "    for m in range(0, M):\n",
    "        y_prev[m] = y_curr[m]\n"
   ]
  },
  {
   "cell_type": "code",
   "execution_count": 104,
   "metadata": {
    "scrolled": false
   },
   "outputs": [
    {
     "name": "stdout",
     "output_type": "stream",
     "text": [
      "0.00011644244168207418\n"
     ]
    },
    {
     "data": {
      "image/png": "[encoded data removed]",
      "text/plain": [
       "<Figure size 432x288 with 1 Axes>"
      ]
     },
     "metadata": {
      "needs_background": "light"
     },
     "output_type": "display_data"
    }
   ],
   "source": [
    "y_exact = [1.0 / (x[i]**2 + 2 * T + 1) for i in range(0, M)]\n",
    "err = max(abs(y_exact - y_curr))\n",
    "print(err)\n",
    "plt.pyplot.plot(x, y_curr, c = 'b', linewidth = 0.5)\n",
    "plt.pyplot.plot(x, y_exact, c = 'r', linewidth = 0.5)\n",
    "plt.pyplot.show()"
   ]
  }
 ],
 "metadata": {
  "kernelspec": {
   "display_name": "Python 2",
   "language": "python",
   "name": "python2"
  },
  "language_info": {
   "codemirror_mode": {
    "name": "ipython",
    "version": 2
   },
   "file_extension": ".py",
   "mimetype": "text/x-python",
   "name": "python",
   "nbconvert_exporter": "python",
   "pygments_lexer": "ipython2",
   "version": "2.7.16"
  }
 },
 "nbformat": 4,
 "nbformat_minor": 2
}
