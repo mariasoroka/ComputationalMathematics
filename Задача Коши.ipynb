{
 "cells": [
  {
   "cell_type": "code",
   "execution_count": 1,
   "metadata": {},
   "outputs": [],
   "source": [
    "import numpy as np\n",
    "import matplotlib as plt\n",
    "import math\n",
    "import matplotlib.pyplot"
   ]
  },
  {
   "cell_type": "markdown",
   "metadata": {},
   "source": [
    "Решим уравнение: $\\frac{y\"}{(1 + y^{\\prime})^{\\frac{3}{2}}} = 2(1 - x), y(0) = 0, y^{\\prime}(0) = 0$\n",
    "\n",
    "Приведем к виду: \n",
    " $$\\begin{equation} \n",
    " \\begin{cases}\n",
    "   y^{\\prime} = z\\\\\n",
    "   z^{\\prime} = 2(1 + z^2)^{\\frac{3}{2}}(1 - x)\\\\\n",
    "   y(0) = 0\\\\\n",
    "   z(0) = 0\n",
    " \\end{cases}\n",
    "\\end{equation}$$"
   ]
  },
  {
   "cell_type": "code",
   "execution_count": 36,
   "metadata": {
    "scrolled": true
   },
   "outputs": [
    {
     "name": "stdout",
     "output_type": "stream",
     "text": [
      "(0.4382693235899588, 0.04)\n",
      "(2.050499819769635, 0.008765386471799176)\n",
      "(0.8942074821480734, 0.0810099963953927)\n",
      "(2.142237998727159, 0.026649536114760647)\n",
      "(1.3910404590142704, 0.12385475636993588)\n",
      "(2.3292862569970545, 0.05447034529504606)\n",
      "(1.990439108739273, 0.17044048150987698)\n",
      "(2.731601555548835, 0.09427912746983153)\n",
      "(2.8765434426788103, 0.22507251262085368)\n",
      "(3.7371104330133997, 0.15180999632340775)\n",
      "(4.914528664965042, 0.2998147212811217)\n",
      "(8.12699765507963, 0.2501005696227086)\n",
      "(23.80044524657452, 0.46235467438271427)\n",
      "(467.73032934857366, 0.7261094745541989)\n",
      "(3438205.7132992395, 9.816961261354187)\n",
      "(1.3493780977125117e+18, 68764.84037545935)\n",
      "(8.05888231448108e+52, 2.6987561954250244e+16)\n",
      "(1.6957797754386655e+157, 1.6117764628962162e+51)\n",
      "(inf, 3.391559550877331e+155)\n",
      "(inf, inf)\n",
      "(inf, inf)\n",
      "(inf, inf)\n",
      "(inf, inf)\n",
      "(inf, inf)\n",
      "(inf, inf)\n",
      "(inf, inf)\n",
      "(inf, inf)\n",
      "(inf, inf)\n",
      "(inf, inf)\n",
      "(inf, inf)\n",
      "(inf, inf)\n",
      "(inf, inf)\n",
      "(inf, inf)\n",
      "(inf, inf)\n",
      "(inf, inf)\n",
      "(inf, inf)\n",
      "(inf, inf)\n",
      "(inf, inf)\n",
      "(inf, inf)\n",
      "(inf, inf)\n",
      "(inf, inf)\n",
      "(inf, inf)\n",
      "(inf, inf)\n",
      "(inf, inf)\n",
      "(inf, inf)\n",
      "(inf, inf)\n",
      "(inf, inf)\n",
      "(inf, inf)\n",
      "(inf, inf)\n",
      "(inf, inf)\n",
      "(inf, inf)\n",
      "(inf, inf)\n",
      "(inf, inf)\n",
      "(inf, inf)\n",
      "(inf, inf)\n",
      "(inf, inf)\n",
      "(inf, inf)\n",
      "(inf, inf)\n",
      "(inf, inf)\n",
      "(inf, inf)\n",
      "(inf, inf)\n",
      "(inf, inf)\n",
      "(inf, inf)\n",
      "(inf, inf)\n",
      "(inf, inf)\n",
      "(inf, inf)\n",
      "(inf, inf)\n",
      "(inf, inf)\n",
      "(inf, inf)\n",
      "(inf, inf)\n",
      "(inf, inf)\n",
      "(inf, inf)\n",
      "(inf, inf)\n",
      "(inf, inf)\n",
      "(inf, inf)\n",
      "(inf, inf)\n",
      "(inf, inf)\n",
      "(inf, inf)\n",
      "(inf, inf)\n",
      "(inf, inf)\n",
      "(inf, inf)\n",
      "(inf, inf)\n",
      "(inf, inf)\n",
      "(inf, inf)\n",
      "(inf, inf)\n",
      "(inf, inf)\n",
      "(inf, inf)\n",
      "(inf, inf)\n",
      "(inf, inf)\n",
      "(inf, inf)\n",
      "(inf, inf)\n",
      "(inf, inf)\n",
      "(inf, inf)\n",
      "(inf, inf)\n",
      "(inf, inf)\n",
      "(inf, inf)\n",
      "(inf, inf)\n",
      "(inf, inf)\n",
      "(nan, inf)\n"
     ]
    },
    {
     "name": "stderr",
     "output_type": "stream",
     "text": [
      "C:\\Users\\maria\\Anaconda2\\lib\\site-packages\\ipykernel_launcher.py:12: RuntimeWarning: overflow encountered in double_scalars\n",
      "  if sys.path[0] == '':\n",
      "C:\\Users\\maria\\Anaconda2\\lib\\site-packages\\ipykernel_launcher.py:12: RuntimeWarning: invalid value encountered in double_scalars\n",
      "  if sys.path[0] == '':\n"
     ]
    }
   ],
   "source": [
    "#это схема с центральной разностью, которая очень быстро расходится. Уже на N  = 100\n",
    "N = 100\n",
    "h = 1.0 / N\n",
    "x = [i * h for i in range(0, N + 1)]\n",
    "z = np.zeros(N + 1)\n",
    "y = np.zeros(N + 1)\n",
    "z[0] = y[0] = 0.0\n",
    "y[1] = 0.0\n",
    "z[1] = 2.0\n",
    "for i in range(2, N + 1):\n",
    "    y[i] = y[i - 2] + 2 * h * z[i - 1]\n",
    "    z[i] = z[i - 2] + 4 * h * (1 - i * h) * (1 + z[i - 1] * z[i - 1]) ** (3.0 / 2)\n",
    "    print(z[i], y[i])\n",
    "#print(x, y)"
   ]
  },
  {
   "cell_type": "code",
   "execution_count": 2,
   "metadata": {},
   "outputs": [],
   "source": [
    "res = np.zeros(6)"
   ]
  },
  {
   "cell_type": "code",
   "execution_count": null,
   "metadata": {},
   "outputs": [
    {
     "name": "stdout",
     "output_type": "stream",
     "text": [
      "0.20881903512281152\n",
      "0.21185902139328144\n",
      "0.21206347134605796\n",
      "0.2121136541362535\n",
      "0.21211672602090634\n"
     ]
    }
   ],
   "source": [
    "#Это неявная схема Эйлера, которая не расходится\n",
    "N = 10\n",
    "for j in range(0, 6): \n",
    "    N *= 10\n",
    "    h = 1.0 / N\n",
    "    x = []\n",
    "    z = []\n",
    "    y = []\n",
    "    z.append(0.0)\n",
    "    y.append(0.0)\n",
    "    x.append(0.0)\n",
    "    end = 0\n",
    "    i = 1\n",
    "    while(end == 0):\n",
    "        a = z[i - 1]\n",
    "        b = 1.0\n",
    "        err = 1.0\n",
    "        c = (a + b) / 2\n",
    "        while(abs(err) > 0.00000001 and c != 1.0):\n",
    "            c = (a + b) / 2\n",
    "            err = c - 2 * h * (1 - i * h) * ((1 + c * c) ** (3.0 / 2)) - z[i - 1]\n",
    "            if(err > 0):\n",
    "                b = c\n",
    "            else:\n",
    "                a = c\n",
    "        if(c != 1.0):\n",
    "            z.append(c)\n",
    "            y.append(y[i - 1] + h * z[i])\n",
    "            x.append(h * i)\n",
    "        else:\n",
    "            end = i - 1\n",
    "        i += 1\n",
    "        #print(x[i - 1], y[i - 1], z[i - 1])\n",
    "    res[j] = y[end]\n",
    "    print(res[j])"
   ]
  },
  {
   "cell_type": "code",
   "execution_count": null,
   "metadata": {},
   "outputs": [],
   "source": [
    "deg = [k for k in range(2, 8)]"
   ]
  },
  {
   "cell_type": "code",
   "execution_count": null,
   "metadata": {},
   "outputs": [],
   "source": [
    "#Зависимость значения функции на правом конце отрезка от deg, где deg = log_10(N)\n",
    "plt.pyplot.plot(deg, res, c = 'b', linewidth = 0.5)\n",
    "plt.pyplot.show()"
   ]
  },
  {
   "cell_type": "code",
   "execution_count": null,
   "metadata": {
    "scrolled": false
   },
   "outputs": [],
   "source": [
    "#Значения функции y полученные при N = 10^7\n",
    "plt.pyplot.plot(x, y, c = 'r', linewidth = 0.5)\n",
    "plt.pyplot.show()"
   ]
  },
  {
   "cell_type": "markdown",
   "metadata": {},
   "source": [
    "Теперь решим приближенное уравнение: $y\" = 2(1 - x), y(0) = 0, y^{\\prime}(0) = 0$\n",
    "\n",
    "Приведем к виду: \n",
    " $$\\begin{equation} \n",
    " \\begin{cases}\n",
    "   y^{\\prime} = z\\\\\n",
    "   z^{\\prime} = 2(1 - x)\\\\\n",
    "   y(0) = 0\\\\\n",
    "   z(0) = 0\n",
    " \\end{cases}\n",
    "\\end{equation}$$"
   ]
  },
  {
   "cell_type": "code",
   "execution_count": 6,
   "metadata": {},
   "outputs": [
    {
     "name": "stdout",
     "output_type": "stream",
     "text": [
      "0.6566999999999998\n",
      "0.665667\n",
      "0.6665666700000027\n",
      "0.6666566667000111\n",
      "0.6666656666669932\n",
      "0.6666665666666582\n"
     ]
    },
    {
     "data": {
      "image/png": "[encoded data removed]",
      "text/plain": [
       "<Figure size 432x288 with 1 Axes>"
      ]
     },
     "metadata": {
      "needs_background": "light"
     },
     "output_type": "display_data"
    }
   ],
   "source": [
    "#Это явная схема Эйлера для упрощенной задачи, которая не расходится\n",
    "res_l = np.zeros(6)\n",
    "N = 10\n",
    "for j in range(0, 6): \n",
    "    N *= 10\n",
    "    h = 1.0 / N\n",
    "    x_l = []\n",
    "    z_l = []\n",
    "    y_l = []\n",
    "    z_l.append(0.0)\n",
    "    y_l.append(0.0)\n",
    "    x_l.append(0.0)\n",
    "    i = 1\n",
    "    while (i < N + 1 and z_l[i - 1] < 1.0):\n",
    "        y_l.append(y_l[i - 1] + h * z_l[i - 1])\n",
    "        z_l.append(z_l[i - 1] + 2 * h * (1 - i * h))\n",
    "        x_l.append(i * h)\n",
    "        res_l[j] = y_l[i]\n",
    "        i += 1\n",
    "        #print(z[i], y[i])\n",
    "    \n",
    "    print(res_l[j])\n",
    "deg = [k for k in range(2, 8)]\n",
    "plt.pyplot.plot(deg, res_l, c = 'b', linewidth = 0.5)\n",
    "plt.pyplot.show()"
   ]
  },
  {
   "cell_type": "code",
   "execution_count": 7,
   "metadata": {},
   "outputs": [
    {
     "data": {
      "image/png": "[encoded data removed]",
      "text/plain": [
       "<Figure size 432x288 with 1 Axes>"
      ]
     },
     "metadata": {
      "needs_background": "light"
     },
     "output_type": "display_data"
    }
   ],
   "source": [
    "#Значения функции y полученные при N = 10^7 для упрощенной задачи\n",
    "plt.pyplot.plot(x_l, y_l, c = 'b', linewidth = 0.5)\n",
    "plt.pyplot.show()"
   ]
  },
  {
   "cell_type": "code",
   "execution_count": 15,
   "metadata": {},
   "outputs": [
    {
     "data": {
      "image/png": "[encoded data removed]",
      "text/plain": [
       "<Figure size 432x288 with 1 Axes>"
      ]
     },
     "metadata": {
      "needs_background": "light"
     },
     "output_type": "display_data"
    }
   ],
   "source": [
    "plt.pyplot.plot(x, y, c = 'r', linewidth = 0.5)\n",
    "plt.pyplot.plot(x_l, y_l, c = 'b', linewidth = 0.5)\n",
    "plt.pyplot.show()"
   ]
  }
 ],
 "metadata": {
  "kernelspec": {
   "display_name": "Python 2",
   "language": "python",
   "name": "python2"
  },
  "language_info": {
   "codemirror_mode": {
    "name": "ipython",
    "version": 2
   },
   "file_extension": ".py",
   "mimetype": "text/x-python",
   "name": "python",
   "nbconvert_exporter": "python",
   "pygments_lexer": "ipython2",
   "version": "2.7.16"
  }
 },
 "nbformat": 4,
 "nbformat_minor": 2
}
